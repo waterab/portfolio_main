{
 "cells": [
  {
   "cell_type": "code",
   "execution_count": 1,
   "id": "49ca98c1-9cb6-43de-8b03-203cd66457d6",
   "metadata": {
    "tags": []
   },
   "outputs": [],
   "source": [
    "# Build requests modules\n",
    "import pandas as pd\n",
    "import requests\n",
    "import json\n",
    "import asyncio\n",
    "import aiohttp\n",
    "import datetime\n",
    "import time\n",
    "import json\n",
    "import numpy as np\n",
    "import os\n",
    "import pandas as pd\n",
    "from pandas.io.json import json_normalize\n",
    "import plotly\n",
    "import redis\n",
    "from multiprocessing.pool import ThreadPool\n",
    "import asyncio\n",
    "import aiohttp\n",
    "import time\n",
    "import urllib.request\n",
    "from sqlalchemy import create_engine, text\n",
    "import plotly.express as px"
   ]
  },
  {
   "cell_type": "code",
   "execution_count": 31,
   "id": "f931800b-8f4a-4224-8a6c-6d39b5b78855",
   "metadata": {
    "tags": []
   },
   "outputs": [],
   "source": [
    "import warnings\n",
    "warnings.filterwarnings('ignore')"
   ]
  },
  {
   "cell_type": "code",
   "execution_count": 32,
   "id": "65386fa1-fea7-4f28-948d-18d3c2086382",
   "metadata": {
    "tags": []
   },
   "outputs": [],
   "source": [
    "class nhlstats():\n",
    "\n",
    "    def __init__(self):\n",
    "        self.url = \"https://statsapi.web.nhl.com/api/v1/\"\n",
    "\n",
    "    def player(self, player_id):\n",
    "        url = self.url + \"people\" + \"/{}\".format(self.player_id)\n",
    "        r = requests.get(url)\n",
    "        js = r.json()\n",
    "        df = pd.json_normalize(js)\n",
    "        return df\n",
    "    \n",
    "    def playerSeasonStats(self, player_id, season):\n",
    "        url = self.url + \"people/{}/stats?stats=statsSingleSeason&season={}\".format(player_id, season)\n",
    "        r = requests.get(url)\n",
    "        js = r.json()\n",
    "        df = pd.json_normalize(js[\"stats\"], record_path=[\"splits\"])\n",
    "        return df\n",
    "    \n",
    "    def seasons(self):\n",
    "        url = self.url + \"seasons\"\n",
    "        r = requests.get(url)\n",
    "        js = r.json()\n",
    "        df = pd.json_normalize(js[\"seasons\"])\n",
    "        return df\n",
    "\n",
    "    def standings(self):\n",
    "        url = self.url + \"standings\"\n",
    "        js = requests.get(url).json()\n",
    "        df = pd.json_normalize(js[\"records\"], record_path=[\"teamRecords\"])\n",
    "        return df\n",
    "\n",
    "    # IF YOU CAN COMBINE TEAMS INTO ONE FUNCTION WITH SUBFUNCTIONS\n",
    "    def teamsList(self):\n",
    "        url = self.url + \"teams\"\n",
    "        js = requests.get(url).json()\n",
    "        df = pd.json_normalize(js[\"teams\"])\n",
    "        return df\n",
    "\n",
    "    def teamStats(self, team_id=None, season=None):\n",
    "\n",
    "        if team_id is not None:\n",
    "            url = self.url + \"teams\" + \"/{}\".format(team_id)\n",
    "        else:\n",
    "            url = self.url + \"teams\"\n",
    "\n",
    "        try:\n",
    "            if season is not None:\n",
    "                r = requests.get(url + \"?expand=team.stats\" + \"&season={}\".format(season))\n",
    "            else:\n",
    "                #current season\n",
    "                r = requests.get(url + \"?expand=team.stats\")\n",
    "            js = r.json()\n",
    "            df = pd.json_normalize(data=js[\"teams\"], record_path=[\"teamStats\", \"splits\"])\n",
    "            return df\n",
    "        except:\n",
    "            df = pd.DataFrame()\n",
    "            return df\n",
    "\n",
    "    def teamRoster(self, team_id=None, season=None):\n",
    "\n",
    "        if team_id is not None:\n",
    "            url = self.url + \"teams\" + \"/{}\".format(team_id)\n",
    "        else:\n",
    "            url = self.url + \"teams\"\n",
    "\n",
    "        if season is not None:\n",
    "            r = requests.get(url + \"?expand=team.roster\" + \"&season={}\".format(season))\n",
    "        else:\n",
    "            #current season\n",
    "            r = requests.get(url + \"?expand=team.roster\")\n",
    "        js = r.json()\n",
    "        df = pd.json_normalize(data=js[\"teams\"], record_path=[\"roster\", \"roster\"], meta=[\"id\", \"name\"])\n",
    "        return df\n",
    "\n",
    "    def teamLogo(team_id):\n",
    "        if team_id is None:\n",
    "            return 'Error: team id required'\n",
    "        else:\n",
    "            url = 'https://www-league.nhlstatic.com/images/logos/teams-current-primary-light/' + str(team_id)  + '.svg'\n",
    "            return url"
   ]
  },
  {
   "cell_type": "code",
   "execution_count": 41,
   "id": "a7414505-5d27-4acd-84c6-a5fe006f44bf",
   "metadata": {
    "tags": []
   },
   "outputs": [
    {
     "name": "stdout",
     "output_type": "stream",
     "text": [
      "20122013\n",
      "100\n",
      "20132014\n",
      "100\n",
      "20142015\n",
      "100\n",
      "20152016\n",
      "100\n",
      "20162017\n",
      "100\n",
      "20172018\n",
      "100\n",
      "20182019\n",
      "100\n",
      "20192020\n",
      "100\n",
      "20202021\n",
      "100\n",
      "20212022\n",
      "100\n"
     ]
    }
   ],
   "source": [
    "playerids = df_players['person.id'].unique()\n",
    "seasons = df_players['season'].unique()\n",
    "\n",
    "def build_playerstats(player, season):\n",
    "    df_players = pd.DataFrame()\n",
    "    df = nhlstats().playerSeasonStats(player, season)\n",
    "    df['season'] = season\n",
    "    df['person.id'] = player\n",
    "    df_players = df_players.append(df)\n",
    "    return df_players\n",
    "# Use threader\n",
    "def run_downloader_playerlist(process:int, playerids:list, season:str):\n",
    "    print(process)\n",
    "    len_playerids = len(playerids)\n",
    "    df_players = pd.DataFrame()\n",
    "    season_playerids = [season]*len_playerids\n",
    "    results = ThreadPool(process).starmap(build_playerstats, zip(playerids, season_playerids))\n",
    "    for r in results:\n",
    "        df_players = df_players.append(r)\n",
    "    return df_players\n",
    "try:\n",
    "    num_process = int(sys.argv[2])\n",
    "except:\n",
    "    num_process = 100\n",
    "df_plyr_stats_ten = pd.DataFrame()   \n",
    "for season in seasons:\n",
    "    print(season)\n",
    "    df_plyr_stats = run_downloader_playerlist(num_process, playerids, season)\n",
    "    df_plyr_stats_ten = df_plyr_stats_ten.append(df_plyr_stats)\n",
    "#df_players.to_sql('players', con=engine, if_exists='replace')"
   ]
  },
  {
   "cell_type": "code",
   "execution_count": 49,
   "id": "3000965d-1432-4825-8714-71528ac64d64",
   "metadata": {
    "tags": []
   },
   "outputs": [
    {
     "data": {
      "text/plain": [
       "9950"
      ]
     },
     "execution_count": 49,
     "metadata": {},
     "output_type": "execute_result"
    }
   ],
   "source": [
    "df_plyr_stats_ten.to_sql('playersTenStats', con=engine, if_exists='replace')"
   ]
  },
  {
   "cell_type": "code",
   "execution_count": 45,
   "id": "48d734f6-6704-4ef3-baff-efacaa27ab3a",
   "metadata": {
    "tags": []
   },
   "outputs": [
    {
     "data": {
      "text/plain": [
       "Index(['season', 'stat.timeOnIce', 'stat.assists', 'stat.goals', 'stat.pim',\n",
       "       'stat.shots', 'stat.games', 'stat.hits', 'stat.powerPlayGoals',\n",
       "       'stat.powerPlayPoints', 'stat.powerPlayTimeOnIce', 'stat.evenTimeOnIce',\n",
       "       'stat.penaltyMinutes', 'stat.faceOffPct', 'stat.shotPct',\n",
       "       'stat.gameWinningGoals', 'stat.overTimeGoals', 'stat.shortHandedGoals',\n",
       "       'stat.shortHandedPoints', 'stat.shortHandedTimeOnIce', 'stat.blocked',\n",
       "       'stat.plusMinus', 'stat.points', 'stat.shifts', 'stat.timeOnIcePerGame',\n",
       "       'stat.evenTimeOnIcePerGame', 'stat.shortHandedTimeOnIcePerGame',\n",
       "       'stat.powerPlayTimeOnIcePerGame', 'person.id', 'stat.ot',\n",
       "       'stat.shutouts', 'stat.wins', 'stat.losses', 'stat.saves',\n",
       "       'stat.powerPlaySaves', 'stat.shortHandedSaves', 'stat.evenSaves',\n",
       "       'stat.shortHandedShots', 'stat.evenShots', 'stat.powerPlayShots',\n",
       "       'stat.savePercentage', 'stat.goalAgainstAverage', 'stat.gamesStarted',\n",
       "       'stat.shotsAgainst', 'stat.goalsAgainst',\n",
       "       'stat.powerPlaySavePercentage', 'stat.shortHandedSavePercentage',\n",
       "       'stat.evenStrengthSavePercentage', 'stat.ties'],\n",
       "      dtype='object')"
      ]
     },
     "execution_count": 45,
     "metadata": {},
     "output_type": "execute_result"
    }
   ],
   "source": [
    "df_plyr_stats_ten.columns"
   ]
  },
  {
   "cell_type": "code",
   "execution_count": 35,
   "id": "2f567521-ccd6-425e-828b-1bf155e9ffa7",
   "metadata": {
    "tags": []
   },
   "outputs": [
    {
     "data": {
      "text/plain": [
       "Index(['season', 'stat.timeOnIce', 'stat.assists', 'stat.goals', 'stat.pim',\n",
       "       'stat.shots', 'stat.games', 'stat.hits', 'stat.powerPlayGoals',\n",
       "       'stat.powerPlayPoints', 'stat.powerPlayTimeOnIce', 'stat.evenTimeOnIce',\n",
       "       'stat.penaltyMinutes', 'stat.faceOffPct', 'stat.shotPct',\n",
       "       'stat.gameWinningGoals', 'stat.overTimeGoals', 'stat.shortHandedGoals',\n",
       "       'stat.shortHandedPoints', 'stat.shortHandedTimeOnIce', 'stat.blocked',\n",
       "       'stat.plusMinus', 'stat.points', 'stat.shifts', 'stat.timeOnIcePerGame',\n",
       "       'stat.evenTimeOnIcePerGame', 'stat.shortHandedTimeOnIcePerGame',\n",
       "       'stat.powerPlayTimeOnIcePerGame', 'person.id', 'stat.ot',\n",
       "       'stat.shutouts', 'stat.wins', 'stat.losses', 'stat.saves',\n",
       "       'stat.powerPlaySaves', 'stat.shortHandedSaves', 'stat.evenSaves',\n",
       "       'stat.shortHandedShots', 'stat.evenShots', 'stat.powerPlayShots',\n",
       "       'stat.savePercentage', 'stat.goalAgainstAverage', 'stat.gamesStarted',\n",
       "       'stat.shotsAgainst', 'stat.goalsAgainst',\n",
       "       'stat.powerPlaySavePercentage', 'stat.shortHandedSavePercentage',\n",
       "       'stat.evenStrengthSavePercentage'],\n",
       "      dtype='object')"
      ]
     },
     "execution_count": 35,
     "metadata": {},
     "output_type": "execute_result"
    }
   ],
   "source": [
    "df_plyr_stats_ten.columns"
   ]
  },
  {
   "cell_type": "code",
   "execution_count": null,
   "id": "936e0d3e-77fc-43b4-9a83-de6a934bae6b",
   "metadata": {},
   "outputs": [],
   "source": []
  }
 ],
 "metadata": {
  "kernelspec": {
   "display_name": "Python (portfolio)",
   "language": "python",
   "name": "portfolio"
  },
  "language_info": {
   "codemirror_mode": {
    "name": "ipython",
    "version": 3
   },
   "file_extension": ".py",
   "mimetype": "text/x-python",
   "name": "python",
   "nbconvert_exporter": "python",
   "pygments_lexer": "ipython3",
   "version": "3.9.16"
  }
 },
 "nbformat": 4,
 "nbformat_minor": 5
}
