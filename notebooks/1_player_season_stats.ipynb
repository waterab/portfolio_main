{
 "cells": [
  {
   "cell_type": "code",
   "execution_count": 100,
   "id": "fa749a0a-7974-4a6b-aba0-260728585fae",
   "metadata": {
    "tags": []
   },
   "outputs": [],
   "source": [
    "# Build requests modules\n",
    "import pandas as pd\n",
    "import requests\n",
    "import json\n",
    "import asyncio\n",
    "import aiohttp\n",
    "import datetime\n",
    "import time\n",
    "import json\n",
    "import numpy as np\n",
    "import os\n",
    "import pandas as pd\n",
    "from pandas.io.json import json_normalize\n",
    "import plotly\n",
    "import redis\n",
    "from multiprocessing.pool import ThreadPool\n",
    "import asyncio\n",
    "import aiohttp\n",
    "import time\n",
    "import urllib.request\n",
    "from sqlalchemy import create_engine, text\n",
    "import plotly.express as px"
   ]
  },
  {
   "cell_type": "code",
   "execution_count": 59,
   "id": "61b86a5e-13d8-4b1a-a0f2-9b7d2d3eb77f",
   "metadata": {
    "tags": []
   },
   "outputs": [],
   "source": [
    "class nhlstats():\n",
    "\n",
    "    def __init__(self):\n",
    "        self.url = \"https://statsapi.web.nhl.com/api/v1/\"\n",
    "\n",
    "    def player(self, player_id):\n",
    "        url = self.url + \"people\" + \"/{}\".format(self.player_id)\n",
    "        r = requests.get(url)\n",
    "        js = r.json()\n",
    "        df = pd.json_normalize(js)\n",
    "        return df\n",
    "    \n",
    "    def playerSeasonStats(self, player_id, season):\n",
    "        url = self.url + \"people/{}/stats?stats=statsSingleSeason&season={}\".format(player_id, season)\n",
    "        r = requests.get(url)\n",
    "        js = r.json()\n",
    "        df = pd.json_normalize(js[\"stats\"], record_path=[\"splits\"])\n",
    "        return df\n",
    "    \n",
    "    def seasons(self):\n",
    "        url = self.url + \"seasons\"\n",
    "        r = requests.get(url)\n",
    "        js = r.json()\n",
    "        df = pd.json_normalize(js[\"seasons\"])\n",
    "        return df\n",
    "\n",
    "    def standings(self):\n",
    "        url = self.url + \"standings\"\n",
    "        js = requests.get(url).json()\n",
    "        df = pd.json_normalize(js[\"records\"], record_path=[\"teamRecords\"])\n",
    "        return df\n",
    "\n",
    "    # IF YOU CAN COMBINE TEAMS INTO ONE FUNCTION WITH SUBFUNCTIONS\n",
    "    def teamsList(self):\n",
    "        url = self.url + \"teams\"\n",
    "        js = requests.get(url).json()\n",
    "        df = pd.json_normalize(js[\"teams\"])\n",
    "        return df\n",
    "\n",
    "    def teamStats(self, team_id=None, season=None):\n",
    "\n",
    "        if team_id is not None:\n",
    "            url = self.url + \"teams\" + \"/{}\".format(team_id)\n",
    "        else:\n",
    "            url = self.url + \"teams\"\n",
    "\n",
    "        try:\n",
    "            if season is not None:\n",
    "                r = requests.get(url + \"?expand=team.stats\" + \"&season={}\".format(season))\n",
    "            else:\n",
    "                #current season\n",
    "                r = requests.get(url + \"?expand=team.stats\")\n",
    "            js = r.json()\n",
    "            df = pd.json_normalize(data=js[\"teams\"], record_path=[\"teamStats\", \"splits\"])\n",
    "            return df\n",
    "        except:\n",
    "            df = pd.DataFrame()\n",
    "            return df\n",
    "\n",
    "    def teamRoster(self, team_id=None, season=None):\n",
    "\n",
    "        if team_id is not None:\n",
    "            url = self.url + \"teams\" + \"/{}\".format(team_id)\n",
    "        else:\n",
    "            url = self.url + \"teams\"\n",
    "\n",
    "        if season is not None:\n",
    "            r = requests.get(url + \"?expand=team.roster\" + \"&season={}\".format(season))\n",
    "        else:\n",
    "            #current season\n",
    "            r = requests.get(url + \"?expand=team.roster\")\n",
    "        js = r.json()\n",
    "        df = pd.json_normalize(data=js[\"teams\"], record_path=[\"roster\", \"roster\"], meta=[\"id\", \"name\"])\n",
    "        return df\n",
    "\n",
    "    def teamLogo(team_id):\n",
    "        if team_id is None:\n",
    "            return 'Error: team id required'\n",
    "        else:\n",
    "            url = 'https://www-league.nhlstatic.com/images/logos/teams-current-primary-light/' + str(team_id)  + '.svg'\n",
    "            return url"
   ]
  },
  {
   "cell_type": "code",
   "execution_count": 44,
   "id": "47a376a5-893e-45ca-81d3-b7fda56b720c",
   "metadata": {
    "tags": []
   },
   "outputs": [],
   "source": [
    "df_stats = nhlstats().playerSeasonStats(\"8465009\", \"20192020\")"
   ]
  },
  {
   "cell_type": "code",
   "execution_count": 45,
   "id": "f38cc67e-9022-4034-b4f4-f92f7a1f7379",
   "metadata": {
    "tags": []
   },
   "outputs": [
    {
     "data": {
      "text/html": [
       "<div>\n",
       "<style scoped>\n",
       "    .dataframe tbody tr th:only-of-type {\n",
       "        vertical-align: middle;\n",
       "    }\n",
       "\n",
       "    .dataframe tbody tr th {\n",
       "        vertical-align: top;\n",
       "    }\n",
       "\n",
       "    .dataframe thead th {\n",
       "        text-align: right;\n",
       "    }\n",
       "</style>\n",
       "<table border=\"1\" class=\"dataframe\">\n",
       "  <thead>\n",
       "    <tr style=\"text-align: right;\">\n",
       "      <th></th>\n",
       "      <th>season</th>\n",
       "      <th>stat.timeOnIce</th>\n",
       "      <th>stat.assists</th>\n",
       "      <th>stat.goals</th>\n",
       "      <th>stat.pim</th>\n",
       "      <th>stat.shots</th>\n",
       "      <th>stat.games</th>\n",
       "      <th>stat.hits</th>\n",
       "      <th>stat.powerPlayGoals</th>\n",
       "      <th>stat.powerPlayPoints</th>\n",
       "      <th>...</th>\n",
       "      <th>stat.shortHandedPoints</th>\n",
       "      <th>stat.shortHandedTimeOnIce</th>\n",
       "      <th>stat.blocked</th>\n",
       "      <th>stat.plusMinus</th>\n",
       "      <th>stat.points</th>\n",
       "      <th>stat.shifts</th>\n",
       "      <th>stat.timeOnIcePerGame</th>\n",
       "      <th>stat.evenTimeOnIcePerGame</th>\n",
       "      <th>stat.shortHandedTimeOnIcePerGame</th>\n",
       "      <th>stat.powerPlayTimeOnIcePerGame</th>\n",
       "    </tr>\n",
       "  </thead>\n",
       "  <tbody>\n",
       "    <tr>\n",
       "      <th>0</th>\n",
       "      <td>20192020</td>\n",
       "      <td>1428:44</td>\n",
       "      <td>9</td>\n",
       "      <td>5</td>\n",
       "      <td>60</td>\n",
       "      <td>86</td>\n",
       "      <td>68</td>\n",
       "      <td>78</td>\n",
       "      <td>0</td>\n",
       "      <td>0</td>\n",
       "      <td>...</td>\n",
       "      <td>0</td>\n",
       "      <td>216:02</td>\n",
       "      <td>101</td>\n",
       "      <td>26</td>\n",
       "      <td>14</td>\n",
       "      <td>1665</td>\n",
       "      <td>21:00</td>\n",
       "      <td>17:46</td>\n",
       "      <td>03:10</td>\n",
       "      <td>00:03</td>\n",
       "    </tr>\n",
       "  </tbody>\n",
       "</table>\n",
       "<p>1 rows × 28 columns</p>\n",
       "</div>"
      ],
      "text/plain": [
       "     season stat.timeOnIce  stat.assists  stat.goals  stat.pim  stat.shots  \\\n",
       "0  20192020        1428:44             9           5        60          86   \n",
       "\n",
       "   stat.games  stat.hits  stat.powerPlayGoals  stat.powerPlayPoints  ...  \\\n",
       "0          68         78                    0                     0  ...   \n",
       "\n",
       "  stat.shortHandedPoints stat.shortHandedTimeOnIce stat.blocked  \\\n",
       "0                      0                    216:02          101   \n",
       "\n",
       "   stat.plusMinus  stat.points  stat.shifts  stat.timeOnIcePerGame  \\\n",
       "0              26           14         1665                  21:00   \n",
       "\n",
       "   stat.evenTimeOnIcePerGame  stat.shortHandedTimeOnIcePerGame  \\\n",
       "0                      17:46                             03:10   \n",
       "\n",
       "  stat.powerPlayTimeOnIcePerGame  \n",
       "0                          00:03  \n",
       "\n",
       "[1 rows x 28 columns]"
      ]
     },
     "execution_count": 45,
     "metadata": {},
     "output_type": "execute_result"
    }
   ],
   "source": [
    "df_stats"
   ]
  },
  {
   "cell_type": "code",
   "execution_count": null,
   "id": "6f957c21-8b46-4df6-a7a2-62ee69eae32d",
   "metadata": {},
   "outputs": [],
   "source": [
    "df_stats = nhlstats().playerSeasonStats(\"20192020\")"
   ]
  },
  {
   "cell_type": "code",
   "execution_count": 48,
   "id": "030ad59f-72f1-4a82-a18f-9c259a9cf759",
   "metadata": {
    "tags": []
   },
   "outputs": [],
   "source": [
    "engine = create_engine(\"sqlite:///C:\\\\Users\\\\WaterDev\\\\Documents\\\\GitHub\\\\portfolio_main\\\\hockeyviewer\\\\db_temp\\\\db2.db\")\n",
    "query_people = 'SELECT * FROM players'\n",
    "df_people = pd.read_sql_query(sql=text(query_people), con=engine.connect())"
   ]
  },
  {
   "cell_type": "code",
   "execution_count": null,
   "id": "464a58cb-f2da-4de7-bb51-28f3ca9e0d95",
   "metadata": {},
   "outputs": [],
   "source": []
  },
  {
   "cell_type": "code",
   "execution_count": 87,
   "id": "24a61475-8afc-4983-bf43-45a56605aa3c",
   "metadata": {
    "tags": []
   },
   "outputs": [],
   "source": [
    "def gather_players_tenyears():\n",
    "    print(\"----> update_players\")\n",
    "    # List of current teamids and seasons to gather\n",
    "    teamslist = nhlstats().teamsList().sort_values(by=['name'])\n",
    "    teamids = teamslist['id'].tolist()\n",
    "    print(teamids)\n",
    "    seasons = [20122013, 20132014, 20142015, 20152016, 20162017, 20172018, 20182019, 20192020, 20202021, 20212022]\n",
    "    seasons = [str(x) for x in seasons]\n",
    "    # View roster for each team\n",
    "    df_players = pd.DataFrame()\n",
    "    for season in seasons:\n",
    "        for team_id in teamids:\n",
    "            try:\n",
    "                df_roster = nhlstats().teamRoster(str(team_id), season)\n",
    "                df_roster['season'] = season\n",
    "                df_players = df_players.append(df_roster)\n",
    "            except Exception as e:\n",
    "                print(\"{} for season {} and team {}\".format(e, season, team_id))\n",
    "    # # Threader for building list of players\n",
    "    # def build_playerlist(team_id, season):\n",
    "    #     df_players = pd.DataFrame()\n",
    "    #     df_roster = nhlstats().teamRoster(str(team_id), season)\n",
    "    #     df_players = df_players.append(df_roster)\n",
    "    #     return df_players\n",
    "    # # Use threader\n",
    "    # def run_downloader_playerlist(process:int, teamids:list, seasons:list):\n",
    "    #     df_players = pd.DataFrame()\n",
    "    #     results = ThreadPool(process).imap_unordered(build_playerlist, teamids, seasons)\n",
    "    #     for r in results:\n",
    "    #         df_players = df_players.append(r)\n",
    "    #     return df_players\n",
    "    # try:\n",
    "    #     num_process = int(sys.argv[2])\n",
    "    # except:\n",
    "    #     num_process = 10\n",
    "    # print(teamids)\n",
    "    # print(seasons)\n",
    "    # df_players = run_downloader_playerlist(num_process, teamids, seasons)\n",
    "    df_players.to_sql('playersTenYears', con=engine, if_exists='replace')\n",
    "    # # Save the dataframe in redis so that the Dash app, running on a separate\n",
    "    # # process, can read it\n",
    "    # redis_instance.hset(\n",
    "    #     REDIS_HASH_NAME,\n",
    "    #     REDIS_KEYS[\"CURRENT_PLAYERS\"],\n",
    "    #     json.dumps(\n",
    "    #         df_players.to_dict(),\n",
    "    #         # This JSON Encoder will handle things like numpy arrays\n",
    "    #         # and datetimes\n",
    "    #         cls=plotly.utils.PlotlyJSONEncoder,\n",
    "    #     ),\n",
    "    # )"
   ]
  },
  {
   "cell_type": "code",
   "execution_count": 80,
   "id": "77aa5a2c-9a00-4efd-ab35-c2dfa6c7f6ef",
   "metadata": {
    "tags": []
   },
   "outputs": [],
   "source": [
    "engine = create_engine(\"sqlite:///C:\\\\Users\\\\WaterDev\\\\Documents\\\\GitHub\\\\portfolio_main\\\\hockeyviewer\\\\db_temp\\\\db2.db\")\n",
    "query_people = 'SELECT * FROM playersTenYears'\n",
    "df_players = pd.read_sql_query(sql=text(query_people), con=engine.connect())"
   ]
  },
  {
   "cell_type": "code",
   "execution_count": 81,
   "id": "b0be3bf6-0b89-41b5-a04b-31496afa75e0",
   "metadata": {
    "tags": []
   },
   "outputs": [
    {
     "data": {
      "text/html": [
       "<div>\n",
       "<style scoped>\n",
       "    .dataframe tbody tr th:only-of-type {\n",
       "        vertical-align: middle;\n",
       "    }\n",
       "\n",
       "    .dataframe tbody tr th {\n",
       "        vertical-align: top;\n",
       "    }\n",
       "\n",
       "    .dataframe thead th {\n",
       "        text-align: right;\n",
       "    }\n",
       "</style>\n",
       "<table border=\"1\" class=\"dataframe\">\n",
       "  <thead>\n",
       "    <tr style=\"text-align: right;\">\n",
       "      <th></th>\n",
       "      <th>index</th>\n",
       "      <th>jerseyNumber</th>\n",
       "      <th>person.id</th>\n",
       "      <th>person.fullName</th>\n",
       "      <th>person.link</th>\n",
       "      <th>position.code</th>\n",
       "      <th>position.name</th>\n",
       "      <th>position.type</th>\n",
       "      <th>position.abbreviation</th>\n",
       "      <th>id</th>\n",
       "      <th>name</th>\n",
       "      <th>season</th>\n",
       "    </tr>\n",
       "  </thead>\n",
       "  <tbody>\n",
       "    <tr>\n",
       "      <th>0</th>\n",
       "      <td>0</td>\n",
       "      <td>8</td>\n",
       "      <td>8457981</td>\n",
       "      <td>Teemu Selanne</td>\n",
       "      <td>/api/v1/people/8457981</td>\n",
       "      <td>R</td>\n",
       "      <td>Right Wing</td>\n",
       "      <td>Forward</td>\n",
       "      <td>RW</td>\n",
       "      <td>24</td>\n",
       "      <td>Anaheim Ducks</td>\n",
       "      <td>20122013</td>\n",
       "    </tr>\n",
       "    <tr>\n",
       "      <th>1</th>\n",
       "      <td>1</td>\n",
       "      <td>11</td>\n",
       "      <td>8459442</td>\n",
       "      <td>Saku Koivu</td>\n",
       "      <td>/api/v1/people/8459442</td>\n",
       "      <td>C</td>\n",
       "      <td>Center</td>\n",
       "      <td>Forward</td>\n",
       "      <td>C</td>\n",
       "      <td>24</td>\n",
       "      <td>Anaheim Ducks</td>\n",
       "      <td>20122013</td>\n",
       "    </tr>\n",
       "    <tr>\n",
       "      <th>2</th>\n",
       "      <td>2</td>\n",
       "      <td>44</td>\n",
       "      <td>8460561</td>\n",
       "      <td>Sheldon Souray</td>\n",
       "      <td>/api/v1/people/8460561</td>\n",
       "      <td>D</td>\n",
       "      <td>Defenseman</td>\n",
       "      <td>Defenseman</td>\n",
       "      <td>D</td>\n",
       "      <td>24</td>\n",
       "      <td>Anaheim Ducks</td>\n",
       "      <td>20122013</td>\n",
       "    </tr>\n",
       "    <tr>\n",
       "      <th>3</th>\n",
       "      <td>3</td>\n",
       "      <td>18</td>\n",
       "      <td>8462041</td>\n",
       "      <td>Radek Dvorak</td>\n",
       "      <td>/api/v1/people/8462041</td>\n",
       "      <td>R</td>\n",
       "      <td>Right Wing</td>\n",
       "      <td>Forward</td>\n",
       "      <td>RW</td>\n",
       "      <td>24</td>\n",
       "      <td>Anaheim Ducks</td>\n",
       "      <td>20122013</td>\n",
       "    </tr>\n",
       "    <tr>\n",
       "      <th>4</th>\n",
       "      <td>4</td>\n",
       "      <td>32</td>\n",
       "      <td>8465042</td>\n",
       "      <td>Toni Lydman</td>\n",
       "      <td>/api/v1/people/8465042</td>\n",
       "      <td>D</td>\n",
       "      <td>Defenseman</td>\n",
       "      <td>Defenseman</td>\n",
       "      <td>D</td>\n",
       "      <td>24</td>\n",
       "      <td>Anaheim Ducks</td>\n",
       "      <td>20122013</td>\n",
       "    </tr>\n",
       "    <tr>\n",
       "      <th>...</th>\n",
       "      <td>...</td>\n",
       "      <td>...</td>\n",
       "      <td>...</td>\n",
       "      <td>...</td>\n",
       "      <td>...</td>\n",
       "      <td>...</td>\n",
       "      <td>...</td>\n",
       "      <td>...</td>\n",
       "      <td>...</td>\n",
       "      <td>...</td>\n",
       "      <td>...</td>\n",
       "      <td>...</td>\n",
       "    </tr>\n",
       "    <tr>\n",
       "      <th>10665</th>\n",
       "      <td>32</td>\n",
       "      <td>14</td>\n",
       "      <td>8481572</td>\n",
       "      <td>Ville Heinola</td>\n",
       "      <td>/api/v1/people/8481572</td>\n",
       "      <td>D</td>\n",
       "      <td>Defenseman</td>\n",
       "      <td>Defenseman</td>\n",
       "      <td>D</td>\n",
       "      <td>52</td>\n",
       "      <td>Winnipeg Jets</td>\n",
       "      <td>20212022</td>\n",
       "    </tr>\n",
       "    <tr>\n",
       "      <th>10666</th>\n",
       "      <td>33</td>\n",
       "      <td>91</td>\n",
       "      <td>8482149</td>\n",
       "      <td>Cole Perfetti</td>\n",
       "      <td>/api/v1/people/8482149</td>\n",
       "      <td>C</td>\n",
       "      <td>Center</td>\n",
       "      <td>Forward</td>\n",
       "      <td>C</td>\n",
       "      <td>52</td>\n",
       "      <td>Winnipeg Jets</td>\n",
       "      <td>20212022</td>\n",
       "    </tr>\n",
       "    <tr>\n",
       "      <th>10667</th>\n",
       "      <td>34</td>\n",
       "      <td>39</td>\n",
       "      <td>8482408</td>\n",
       "      <td>Jeff Malott</td>\n",
       "      <td>/api/v1/people/8482408</td>\n",
       "      <td>L</td>\n",
       "      <td>Left Wing</td>\n",
       "      <td>Forward</td>\n",
       "      <td>LW</td>\n",
       "      <td>52</td>\n",
       "      <td>Winnipeg Jets</td>\n",
       "      <td>20212022</td>\n",
       "    </tr>\n",
       "    <tr>\n",
       "      <th>10668</th>\n",
       "      <td>35</td>\n",
       "      <td>37</td>\n",
       "      <td>8476945</td>\n",
       "      <td>Connor Hellebuyck</td>\n",
       "      <td>/api/v1/people/8476945</td>\n",
       "      <td>G</td>\n",
       "      <td>Goalie</td>\n",
       "      <td>Goalie</td>\n",
       "      <td>G</td>\n",
       "      <td>52</td>\n",
       "      <td>Winnipeg Jets</td>\n",
       "      <td>20212022</td>\n",
       "    </tr>\n",
       "    <tr>\n",
       "      <th>10669</th>\n",
       "      <td>36</td>\n",
       "      <td>31</td>\n",
       "      <td>8477480</td>\n",
       "      <td>Eric Comrie</td>\n",
       "      <td>/api/v1/people/8477480</td>\n",
       "      <td>G</td>\n",
       "      <td>Goalie</td>\n",
       "      <td>Goalie</td>\n",
       "      <td>G</td>\n",
       "      <td>52</td>\n",
       "      <td>Winnipeg Jets</td>\n",
       "      <td>20212022</td>\n",
       "    </tr>\n",
       "  </tbody>\n",
       "</table>\n",
       "<p>10670 rows × 12 columns</p>\n",
       "</div>"
      ],
      "text/plain": [
       "       index jerseyNumber  person.id    person.fullName  \\\n",
       "0          0            8    8457981      Teemu Selanne   \n",
       "1          1           11    8459442         Saku Koivu   \n",
       "2          2           44    8460561     Sheldon Souray   \n",
       "3          3           18    8462041       Radek Dvorak   \n",
       "4          4           32    8465042        Toni Lydman   \n",
       "...      ...          ...        ...                ...   \n",
       "10665     32           14    8481572      Ville Heinola   \n",
       "10666     33           91    8482149      Cole Perfetti   \n",
       "10667     34           39    8482408        Jeff Malott   \n",
       "10668     35           37    8476945  Connor Hellebuyck   \n",
       "10669     36           31    8477480        Eric Comrie   \n",
       "\n",
       "                  person.link position.code position.name position.type  \\\n",
       "0      /api/v1/people/8457981             R    Right Wing       Forward   \n",
       "1      /api/v1/people/8459442             C        Center       Forward   \n",
       "2      /api/v1/people/8460561             D    Defenseman    Defenseman   \n",
       "3      /api/v1/people/8462041             R    Right Wing       Forward   \n",
       "4      /api/v1/people/8465042             D    Defenseman    Defenseman   \n",
       "...                       ...           ...           ...           ...   \n",
       "10665  /api/v1/people/8481572             D    Defenseman    Defenseman   \n",
       "10666  /api/v1/people/8482149             C        Center       Forward   \n",
       "10667  /api/v1/people/8482408             L     Left Wing       Forward   \n",
       "10668  /api/v1/people/8476945             G        Goalie        Goalie   \n",
       "10669  /api/v1/people/8477480             G        Goalie        Goalie   \n",
       "\n",
       "      position.abbreviation  id           name    season  \n",
       "0                        RW  24  Anaheim Ducks  20122013  \n",
       "1                         C  24  Anaheim Ducks  20122013  \n",
       "2                         D  24  Anaheim Ducks  20122013  \n",
       "3                        RW  24  Anaheim Ducks  20122013  \n",
       "4                         D  24  Anaheim Ducks  20122013  \n",
       "...                     ...  ..            ...       ...  \n",
       "10665                     D  52  Winnipeg Jets  20212022  \n",
       "10666                     C  52  Winnipeg Jets  20212022  \n",
       "10667                    LW  52  Winnipeg Jets  20212022  \n",
       "10668                     G  52  Winnipeg Jets  20212022  \n",
       "10669                     G  52  Winnipeg Jets  20212022  \n",
       "\n",
       "[10670 rows x 12 columns]"
      ]
     },
     "execution_count": 81,
     "metadata": {},
     "output_type": "execute_result"
    }
   ],
   "source": [
    "df_players"
   ]
  },
  {
   "cell_type": "code",
   "execution_count": 77,
   "id": "7034b8d5-b26c-4e56-8255-c2f10aa7e7ad",
   "metadata": {
    "tags": []
   },
   "outputs": [
    {
     "data": {
      "text/plain": [
       "Index(['index', 'jerseyNumber', 'person.id', 'person.fullName', 'person.link',\n",
       "       'position.code', 'position.name', 'position.type',\n",
       "       'position.abbreviation', 'id', 'name'],\n",
       "      dtype='object')"
      ]
     },
     "execution_count": 77,
     "metadata": {},
     "output_type": "execute_result"
    }
   ],
   "source": [
    "df_players.columns"
   ]
  },
  {
   "cell_type": "code",
   "execution_count": null,
   "id": "00225111-71b6-4f86-9b20-4268cecdff1e",
   "metadata": {},
   "outputs": [],
   "source": [
    "# quick grab\n",
    "print(\"----> update_players\")\n",
    "# List of current teamids\n",
    "playerids = df_players['person.id'].unique()\n",
    "\n",
    "# Threader for building list of players\n",
    "def build_playerlist(team_id):\n",
    "    df_players = pd.DataFrame()\n",
    "    df_roster = nhlstats().teamRoster(str(team_id))\n",
    "    df_players = df_players.append(df_roster)\n",
    "    return df_players\n",
    "# Use threader\n",
    "def run_downloader_playerlist(process:int, teamids:list):\n",
    "    df_players = pd.DataFrame()\n",
    "    results = ThreadPool(process).imap_unordered(build_playerlist, teamids)\n",
    "    for r in results:\n",
    "        df_players = df_players.append(r)\n",
    "    return df_players\n",
    "try:\n",
    "    num_process = int(sys.argv[2])\n",
    "except:\n",
    "    num_process = 10\n",
    "df_players = run_downloader_playerlist(num_process, teamids)\n",
    "df_players.to_sql('players', con=engine, if_exists='replace')"
   ]
  },
  {
   "cell_type": "code",
   "execution_count": 90,
   "id": "be6484ca-9921-432d-9c75-e1efbef4aa8f",
   "metadata": {
    "tags": []
   },
   "outputs": [
    {
     "name": "stderr",
     "output_type": "stream",
     "text": [
      "C:\\Users\\WaterDev\\AppData\\Local\\Temp\\ipykernel_8624\\2110702450.py:8: FutureWarning: The frame.append method is deprecated and will be removed from pandas in a future version. Use pandas.concat instead.\n",
      "  df_plyr_stats = df_plyr_stats.append(df)\n",
      "C:\\Users\\WaterDev\\AppData\\Local\\Temp\\ipykernel_8624\\2110702450.py:8: FutureWarning: The frame.append method is deprecated and will be removed from pandas in a future version. Use pandas.concat instead.\n",
      "  df_plyr_stats = df_plyr_stats.append(df)\n",
      "C:\\Users\\WaterDev\\AppData\\Local\\Temp\\ipykernel_8624\\2110702450.py:8: FutureWarning: The frame.append method is deprecated and will be removed from pandas in a future version. Use pandas.concat instead.\n",
      "  df_plyr_stats = df_plyr_stats.append(df)\n",
      "C:\\Users\\WaterDev\\AppData\\Local\\Temp\\ipykernel_8624\\2110702450.py:8: FutureWarning: The frame.append method is deprecated and will be removed from pandas in a future version. Use pandas.concat instead.\n",
      "  df_plyr_stats = df_plyr_stats.append(df)\n",
      "C:\\Users\\WaterDev\\AppData\\Local\\Temp\\ipykernel_8624\\2110702450.py:8: FutureWarning: The frame.append method is deprecated and will be removed from pandas in a future version. Use pandas.concat instead.\n",
      "  df_plyr_stats = df_plyr_stats.append(df)\n",
      "C:\\Users\\WaterDev\\AppData\\Local\\Temp\\ipykernel_8624\\2110702450.py:8: FutureWarning: The frame.append method is deprecated and will be removed from pandas in a future version. Use pandas.concat instead.\n",
      "  df_plyr_stats = df_plyr_stats.append(df)\n",
      "C:\\Users\\WaterDev\\AppData\\Local\\Temp\\ipykernel_8624\\2110702450.py:8: FutureWarning: The frame.append method is deprecated and will be removed from pandas in a future version. Use pandas.concat instead.\n",
      "  df_plyr_stats = df_plyr_stats.append(df)\n",
      "C:\\Users\\WaterDev\\AppData\\Local\\Temp\\ipykernel_8624\\2110702450.py:8: FutureWarning: The frame.append method is deprecated and will be removed from pandas in a future version. Use pandas.concat instead.\n",
      "  df_plyr_stats = df_plyr_stats.append(df)\n",
      "C:\\Users\\WaterDev\\AppData\\Local\\Temp\\ipykernel_8624\\2110702450.py:8: FutureWarning: The frame.append method is deprecated and will be removed from pandas in a future version. Use pandas.concat instead.\n",
      "  df_plyr_stats = df_plyr_stats.append(df)\n",
      "C:\\Users\\WaterDev\\AppData\\Local\\Temp\\ipykernel_8624\\2110702450.py:8: FutureWarning: The frame.append method is deprecated and will be removed from pandas in a future version. Use pandas.concat instead.\n",
      "  df_plyr_stats = df_plyr_stats.append(df)\n",
      "C:\\Users\\WaterDev\\AppData\\Local\\Temp\\ipykernel_8624\\2110702450.py:8: FutureWarning: The frame.append method is deprecated and will be removed from pandas in a future version. Use pandas.concat instead.\n",
      "  df_plyr_stats = df_plyr_stats.append(df)\n",
      "C:\\Users\\WaterDev\\AppData\\Local\\Temp\\ipykernel_8624\\2110702450.py:8: FutureWarning: The frame.append method is deprecated and will be removed from pandas in a future version. Use pandas.concat instead.\n",
      "  df_plyr_stats = df_plyr_stats.append(df)\n",
      "C:\\Users\\WaterDev\\AppData\\Local\\Temp\\ipykernel_8624\\2110702450.py:8: FutureWarning: The frame.append method is deprecated and will be removed from pandas in a future version. Use pandas.concat instead.\n",
      "  df_plyr_stats = df_plyr_stats.append(df)\n",
      "C:\\Users\\WaterDev\\AppData\\Local\\Temp\\ipykernel_8624\\2110702450.py:8: FutureWarning: The frame.append method is deprecated and will be removed from pandas in a future version. Use pandas.concat instead.\n",
      "  df_plyr_stats = df_plyr_stats.append(df)\n",
      "C:\\Users\\WaterDev\\AppData\\Local\\Temp\\ipykernel_8624\\2110702450.py:8: FutureWarning: The frame.append method is deprecated and will be removed from pandas in a future version. Use pandas.concat instead.\n",
      "  df_plyr_stats = df_plyr_stats.append(df)\n",
      "C:\\Users\\WaterDev\\AppData\\Local\\Temp\\ipykernel_8624\\2110702450.py:8: FutureWarning: The frame.append method is deprecated and will be removed from pandas in a future version. Use pandas.concat instead.\n",
      "  df_plyr_stats = df_plyr_stats.append(df)\n",
      "C:\\Users\\WaterDev\\AppData\\Local\\Temp\\ipykernel_8624\\2110702450.py:8: FutureWarning: The frame.append method is deprecated and will be removed from pandas in a future version. Use pandas.concat instead.\n",
      "  df_plyr_stats = df_plyr_stats.append(df)\n",
      "C:\\Users\\WaterDev\\AppData\\Local\\Temp\\ipykernel_8624\\2110702450.py:8: FutureWarning: The frame.append method is deprecated and will be removed from pandas in a future version. Use pandas.concat instead.\n",
      "  df_plyr_stats = df_plyr_stats.append(df)\n",
      "C:\\Users\\WaterDev\\AppData\\Local\\Temp\\ipykernel_8624\\2110702450.py:8: FutureWarning: The frame.append method is deprecated and will be removed from pandas in a future version. Use pandas.concat instead.\n",
      "  df_plyr_stats = df_plyr_stats.append(df)\n",
      "C:\\Users\\WaterDev\\AppData\\Local\\Temp\\ipykernel_8624\\2110702450.py:8: FutureWarning: The frame.append method is deprecated and will be removed from pandas in a future version. Use pandas.concat instead.\n",
      "  df_plyr_stats = df_plyr_stats.append(df)\n",
      "C:\\Users\\WaterDev\\AppData\\Local\\Temp\\ipykernel_8624\\2110702450.py:8: FutureWarning: The frame.append method is deprecated and will be removed from pandas in a future version. Use pandas.concat instead.\n",
      "  df_plyr_stats = df_plyr_stats.append(df)\n",
      "C:\\Users\\WaterDev\\AppData\\Local\\Temp\\ipykernel_8624\\2110702450.py:8: FutureWarning: The frame.append method is deprecated and will be removed from pandas in a future version. Use pandas.concat instead.\n",
      "  df_plyr_stats = df_plyr_stats.append(df)\n",
      "C:\\Users\\WaterDev\\AppData\\Local\\Temp\\ipykernel_8624\\2110702450.py:8: FutureWarning: The frame.append method is deprecated and will be removed from pandas in a future version. Use pandas.concat instead.\n",
      "  df_plyr_stats = df_plyr_stats.append(df)\n",
      "C:\\Users\\WaterDev\\AppData\\Local\\Temp\\ipykernel_8624\\2110702450.py:8: FutureWarning: The frame.append method is deprecated and will be removed from pandas in a future version. Use pandas.concat instead.\n",
      "  df_plyr_stats = df_plyr_stats.append(df)\n",
      "C:\\Users\\WaterDev\\AppData\\Local\\Temp\\ipykernel_8624\\2110702450.py:8: FutureWarning: The frame.append method is deprecated and will be removed from pandas in a future version. Use pandas.concat instead.\n",
      "  df_plyr_stats = df_plyr_stats.append(df)\n",
      "C:\\Users\\WaterDev\\AppData\\Local\\Temp\\ipykernel_8624\\2110702450.py:8: FutureWarning: The frame.append method is deprecated and will be removed from pandas in a future version. Use pandas.concat instead.\n",
      "  df_plyr_stats = df_plyr_stats.append(df)\n",
      "C:\\Users\\WaterDev\\AppData\\Local\\Temp\\ipykernel_8624\\2110702450.py:8: FutureWarning: The frame.append method is deprecated and will be removed from pandas in a future version. Use pandas.concat instead.\n",
      "  df_plyr_stats = df_plyr_stats.append(df)\n",
      "C:\\Users\\WaterDev\\AppData\\Local\\Temp\\ipykernel_8624\\2110702450.py:8: FutureWarning: The frame.append method is deprecated and will be removed from pandas in a future version. Use pandas.concat instead.\n",
      "  df_plyr_stats = df_plyr_stats.append(df)\n",
      "C:\\Users\\WaterDev\\AppData\\Local\\Temp\\ipykernel_8624\\2110702450.py:8: FutureWarning: The frame.append method is deprecated and will be removed from pandas in a future version. Use pandas.concat instead.\n",
      "  df_plyr_stats = df_plyr_stats.append(df)\n",
      "C:\\Users\\WaterDev\\AppData\\Local\\Temp\\ipykernel_8624\\2110702450.py:8: FutureWarning: The frame.append method is deprecated and will be removed from pandas in a future version. Use pandas.concat instead.\n",
      "  df_plyr_stats = df_plyr_stats.append(df)\n",
      "C:\\Users\\WaterDev\\AppData\\Local\\Temp\\ipykernel_8624\\2110702450.py:8: FutureWarning: The frame.append method is deprecated and will be removed from pandas in a future version. Use pandas.concat instead.\n",
      "  df_plyr_stats = df_plyr_stats.append(df)\n",
      "C:\\Users\\WaterDev\\AppData\\Local\\Temp\\ipykernel_8624\\2110702450.py:8: FutureWarning: The frame.append method is deprecated and will be removed from pandas in a future version. Use pandas.concat instead.\n",
      "  df_plyr_stats = df_plyr_stats.append(df)\n",
      "C:\\Users\\WaterDev\\AppData\\Local\\Temp\\ipykernel_8624\\2110702450.py:8: FutureWarning: The frame.append method is deprecated and will be removed from pandas in a future version. Use pandas.concat instead.\n",
      "  df_plyr_stats = df_plyr_stats.append(df)\n",
      "C:\\Users\\WaterDev\\AppData\\Local\\Temp\\ipykernel_8624\\2110702450.py:8: FutureWarning: The frame.append method is deprecated and will be removed from pandas in a future version. Use pandas.concat instead.\n",
      "  df_plyr_stats = df_plyr_stats.append(df)\n",
      "C:\\Users\\WaterDev\\AppData\\Local\\Temp\\ipykernel_8624\\2110702450.py:8: FutureWarning: The frame.append method is deprecated and will be removed from pandas in a future version. Use pandas.concat instead.\n",
      "  df_plyr_stats = df_plyr_stats.append(df)\n",
      "C:\\Users\\WaterDev\\AppData\\Local\\Temp\\ipykernel_8624\\2110702450.py:8: FutureWarning: The frame.append method is deprecated and will be removed from pandas in a future version. Use pandas.concat instead.\n",
      "  df_plyr_stats = df_plyr_stats.append(df)\n",
      "C:\\Users\\WaterDev\\AppData\\Local\\Temp\\ipykernel_8624\\2110702450.py:8: FutureWarning: The frame.append method is deprecated and will be removed from pandas in a future version. Use pandas.concat instead.\n",
      "  df_plyr_stats = df_plyr_stats.append(df)\n",
      "C:\\Users\\WaterDev\\AppData\\Local\\Temp\\ipykernel_8624\\2110702450.py:8: FutureWarning: The frame.append method is deprecated and will be removed from pandas in a future version. Use pandas.concat instead.\n",
      "  df_plyr_stats = df_plyr_stats.append(df)\n",
      "C:\\Users\\WaterDev\\AppData\\Local\\Temp\\ipykernel_8624\\2110702450.py:8: FutureWarning: The frame.append method is deprecated and will be removed from pandas in a future version. Use pandas.concat instead.\n",
      "  df_plyr_stats = df_plyr_stats.append(df)\n",
      "C:\\Users\\WaterDev\\AppData\\Local\\Temp\\ipykernel_8624\\2110702450.py:8: FutureWarning: The frame.append method is deprecated and will be removed from pandas in a future version. Use pandas.concat instead.\n",
      "  df_plyr_stats = df_plyr_stats.append(df)\n",
      "C:\\Users\\WaterDev\\AppData\\Local\\Temp\\ipykernel_8624\\2110702450.py:8: FutureWarning: The frame.append method is deprecated and will be removed from pandas in a future version. Use pandas.concat instead.\n",
      "  df_plyr_stats = df_plyr_stats.append(df)\n",
      "C:\\Users\\WaterDev\\AppData\\Local\\Temp\\ipykernel_8624\\2110702450.py:8: FutureWarning: The frame.append method is deprecated and will be removed from pandas in a future version. Use pandas.concat instead.\n",
      "  df_plyr_stats = df_plyr_stats.append(df)\n",
      "C:\\Users\\WaterDev\\AppData\\Local\\Temp\\ipykernel_8624\\2110702450.py:8: FutureWarning: The frame.append method is deprecated and will be removed from pandas in a future version. Use pandas.concat instead.\n",
      "  df_plyr_stats = df_plyr_stats.append(df)\n",
      "C:\\Users\\WaterDev\\AppData\\Local\\Temp\\ipykernel_8624\\2110702450.py:8: FutureWarning: The frame.append method is deprecated and will be removed from pandas in a future version. Use pandas.concat instead.\n",
      "  df_plyr_stats = df_plyr_stats.append(df)\n",
      "C:\\Users\\WaterDev\\AppData\\Local\\Temp\\ipykernel_8624\\2110702450.py:8: FutureWarning: The frame.append method is deprecated and will be removed from pandas in a future version. Use pandas.concat instead.\n",
      "  df_plyr_stats = df_plyr_stats.append(df)\n",
      "C:\\Users\\WaterDev\\AppData\\Local\\Temp\\ipykernel_8624\\2110702450.py:8: FutureWarning: The frame.append method is deprecated and will be removed from pandas in a future version. Use pandas.concat instead.\n",
      "  df_plyr_stats = df_plyr_stats.append(df)\n",
      "C:\\Users\\WaterDev\\AppData\\Local\\Temp\\ipykernel_8624\\2110702450.py:8: FutureWarning: The frame.append method is deprecated and will be removed from pandas in a future version. Use pandas.concat instead.\n",
      "  df_plyr_stats = df_plyr_stats.append(df)\n",
      "C:\\Users\\WaterDev\\AppData\\Local\\Temp\\ipykernel_8624\\2110702450.py:8: FutureWarning: The frame.append method is deprecated and will be removed from pandas in a future version. Use pandas.concat instead.\n",
      "  df_plyr_stats = df_plyr_stats.append(df)\n",
      "C:\\Users\\WaterDev\\AppData\\Local\\Temp\\ipykernel_8624\\2110702450.py:8: FutureWarning: The frame.append method is deprecated and will be removed from pandas in a future version. Use pandas.concat instead.\n",
      "  df_plyr_stats = df_plyr_stats.append(df)\n",
      "C:\\Users\\WaterDev\\AppData\\Local\\Temp\\ipykernel_8624\\2110702450.py:8: FutureWarning: The frame.append method is deprecated and will be removed from pandas in a future version. Use pandas.concat instead.\n",
      "  df_plyr_stats = df_plyr_stats.append(df)\n",
      "C:\\Users\\WaterDev\\AppData\\Local\\Temp\\ipykernel_8624\\2110702450.py:8: FutureWarning: The frame.append method is deprecated and will be removed from pandas in a future version. Use pandas.concat instead.\n",
      "  df_plyr_stats = df_plyr_stats.append(df)\n",
      "C:\\Users\\WaterDev\\AppData\\Local\\Temp\\ipykernel_8624\\2110702450.py:8: FutureWarning: The frame.append method is deprecated and will be removed from pandas in a future version. Use pandas.concat instead.\n",
      "  df_plyr_stats = df_plyr_stats.append(df)\n",
      "C:\\Users\\WaterDev\\AppData\\Local\\Temp\\ipykernel_8624\\2110702450.py:8: FutureWarning: The frame.append method is deprecated and will be removed from pandas in a future version. Use pandas.concat instead.\n",
      "  df_plyr_stats = df_plyr_stats.append(df)\n",
      "C:\\Users\\WaterDev\\AppData\\Local\\Temp\\ipykernel_8624\\2110702450.py:8: FutureWarning: The frame.append method is deprecated and will be removed from pandas in a future version. Use pandas.concat instead.\n",
      "  df_plyr_stats = df_plyr_stats.append(df)\n",
      "C:\\Users\\WaterDev\\AppData\\Local\\Temp\\ipykernel_8624\\2110702450.py:8: FutureWarning: The frame.append method is deprecated and will be removed from pandas in a future version. Use pandas.concat instead.\n",
      "  df_plyr_stats = df_plyr_stats.append(df)\n",
      "C:\\Users\\WaterDev\\AppData\\Local\\Temp\\ipykernel_8624\\2110702450.py:8: FutureWarning: The frame.append method is deprecated and will be removed from pandas in a future version. Use pandas.concat instead.\n",
      "  df_plyr_stats = df_plyr_stats.append(df)\n",
      "C:\\Users\\WaterDev\\AppData\\Local\\Temp\\ipykernel_8624\\2110702450.py:8: FutureWarning: The frame.append method is deprecated and will be removed from pandas in a future version. Use pandas.concat instead.\n",
      "  df_plyr_stats = df_plyr_stats.append(df)\n",
      "C:\\Users\\WaterDev\\AppData\\Local\\Temp\\ipykernel_8624\\2110702450.py:8: FutureWarning: The frame.append method is deprecated and will be removed from pandas in a future version. Use pandas.concat instead.\n",
      "  df_plyr_stats = df_plyr_stats.append(df)\n",
      "C:\\Users\\WaterDev\\AppData\\Local\\Temp\\ipykernel_8624\\2110702450.py:8: FutureWarning: The frame.append method is deprecated and will be removed from pandas in a future version. Use pandas.concat instead.\n",
      "  df_plyr_stats = df_plyr_stats.append(df)\n",
      "C:\\Users\\WaterDev\\AppData\\Local\\Temp\\ipykernel_8624\\2110702450.py:8: FutureWarning: The frame.append method is deprecated and will be removed from pandas in a future version. Use pandas.concat instead.\n",
      "  df_plyr_stats = df_plyr_stats.append(df)\n",
      "C:\\Users\\WaterDev\\AppData\\Local\\Temp\\ipykernel_8624\\2110702450.py:8: FutureWarning: The frame.append method is deprecated and will be removed from pandas in a future version. Use pandas.concat instead.\n",
      "  df_plyr_stats = df_plyr_stats.append(df)\n",
      "C:\\Users\\WaterDev\\AppData\\Local\\Temp\\ipykernel_8624\\2110702450.py:8: FutureWarning: The frame.append method is deprecated and will be removed from pandas in a future version. Use pandas.concat instead.\n",
      "  df_plyr_stats = df_plyr_stats.append(df)\n",
      "C:\\Users\\WaterDev\\AppData\\Local\\Temp\\ipykernel_8624\\2110702450.py:8: FutureWarning: The frame.append method is deprecated and will be removed from pandas in a future version. Use pandas.concat instead.\n",
      "  df_plyr_stats = df_plyr_stats.append(df)\n",
      "C:\\Users\\WaterDev\\AppData\\Local\\Temp\\ipykernel_8624\\2110702450.py:8: FutureWarning: The frame.append method is deprecated and will be removed from pandas in a future version. Use pandas.concat instead.\n",
      "  df_plyr_stats = df_plyr_stats.append(df)\n",
      "C:\\Users\\WaterDev\\AppData\\Local\\Temp\\ipykernel_8624\\2110702450.py:8: FutureWarning: The frame.append method is deprecated and will be removed from pandas in a future version. Use pandas.concat instead.\n",
      "  df_plyr_stats = df_plyr_stats.append(df)\n",
      "C:\\Users\\WaterDev\\AppData\\Local\\Temp\\ipykernel_8624\\2110702450.py:8: FutureWarning: The frame.append method is deprecated and will be removed from pandas in a future version. Use pandas.concat instead.\n",
      "  df_plyr_stats = df_plyr_stats.append(df)\n",
      "C:\\Users\\WaterDev\\AppData\\Local\\Temp\\ipykernel_8624\\2110702450.py:8: FutureWarning: The frame.append method is deprecated and will be removed from pandas in a future version. Use pandas.concat instead.\n",
      "  df_plyr_stats = df_plyr_stats.append(df)\n",
      "C:\\Users\\WaterDev\\AppData\\Local\\Temp\\ipykernel_8624\\2110702450.py:8: FutureWarning: The frame.append method is deprecated and will be removed from pandas in a future version. Use pandas.concat instead.\n",
      "  df_plyr_stats = df_plyr_stats.append(df)\n",
      "C:\\Users\\WaterDev\\AppData\\Local\\Temp\\ipykernel_8624\\2110702450.py:8: FutureWarning: The frame.append method is deprecated and will be removed from pandas in a future version. Use pandas.concat instead.\n",
      "  df_plyr_stats = df_plyr_stats.append(df)\n",
      "C:\\Users\\WaterDev\\AppData\\Local\\Temp\\ipykernel_8624\\2110702450.py:8: FutureWarning: The frame.append method is deprecated and will be removed from pandas in a future version. Use pandas.concat instead.\n",
      "  df_plyr_stats = df_plyr_stats.append(df)\n",
      "C:\\Users\\WaterDev\\AppData\\Local\\Temp\\ipykernel_8624\\2110702450.py:8: FutureWarning: The frame.append method is deprecated and will be removed from pandas in a future version. Use pandas.concat instead.\n",
      "  df_plyr_stats = df_plyr_stats.append(df)\n",
      "C:\\Users\\WaterDev\\AppData\\Local\\Temp\\ipykernel_8624\\2110702450.py:8: FutureWarning: The frame.append method is deprecated and will be removed from pandas in a future version. Use pandas.concat instead.\n",
      "  df_plyr_stats = df_plyr_stats.append(df)\n",
      "C:\\Users\\WaterDev\\AppData\\Local\\Temp\\ipykernel_8624\\2110702450.py:8: FutureWarning: The frame.append method is deprecated and will be removed from pandas in a future version. Use pandas.concat instead.\n",
      "  df_plyr_stats = df_plyr_stats.append(df)\n",
      "C:\\Users\\WaterDev\\AppData\\Local\\Temp\\ipykernel_8624\\2110702450.py:8: FutureWarning: The frame.append method is deprecated and will be removed from pandas in a future version. Use pandas.concat instead.\n",
      "  df_plyr_stats = df_plyr_stats.append(df)\n",
      "C:\\Users\\WaterDev\\AppData\\Local\\Temp\\ipykernel_8624\\2110702450.py:8: FutureWarning: The frame.append method is deprecated and will be removed from pandas in a future version. Use pandas.concat instead.\n",
      "  df_plyr_stats = df_plyr_stats.append(df)\n",
      "C:\\Users\\WaterDev\\AppData\\Local\\Temp\\ipykernel_8624\\2110702450.py:8: FutureWarning: The frame.append method is deprecated and will be removed from pandas in a future version. Use pandas.concat instead.\n",
      "  df_plyr_stats = df_plyr_stats.append(df)\n",
      "C:\\Users\\WaterDev\\AppData\\Local\\Temp\\ipykernel_8624\\2110702450.py:8: FutureWarning: The frame.append method is deprecated and will be removed from pandas in a future version. Use pandas.concat instead.\n",
      "  df_plyr_stats = df_plyr_stats.append(df)\n",
      "C:\\Users\\WaterDev\\AppData\\Local\\Temp\\ipykernel_8624\\2110702450.py:8: FutureWarning: The frame.append method is deprecated and will be removed from pandas in a future version. Use pandas.concat instead.\n",
      "  df_plyr_stats = df_plyr_stats.append(df)\n",
      "C:\\Users\\WaterDev\\AppData\\Local\\Temp\\ipykernel_8624\\2110702450.py:8: FutureWarning: The frame.append method is deprecated and will be removed from pandas in a future version. Use pandas.concat instead.\n",
      "  df_plyr_stats = df_plyr_stats.append(df)\n",
      "C:\\Users\\WaterDev\\AppData\\Local\\Temp\\ipykernel_8624\\2110702450.py:8: FutureWarning: The frame.append method is deprecated and will be removed from pandas in a future version. Use pandas.concat instead.\n",
      "  df_plyr_stats = df_plyr_stats.append(df)\n",
      "C:\\Users\\WaterDev\\AppData\\Local\\Temp\\ipykernel_8624\\2110702450.py:8: FutureWarning: The frame.append method is deprecated and will be removed from pandas in a future version. Use pandas.concat instead.\n",
      "  df_plyr_stats = df_plyr_stats.append(df)\n",
      "C:\\Users\\WaterDev\\AppData\\Local\\Temp\\ipykernel_8624\\2110702450.py:8: FutureWarning: The frame.append method is deprecated and will be removed from pandas in a future version. Use pandas.concat instead.\n",
      "  df_plyr_stats = df_plyr_stats.append(df)\n",
      "C:\\Users\\WaterDev\\AppData\\Local\\Temp\\ipykernel_8624\\2110702450.py:8: FutureWarning: The frame.append method is deprecated and will be removed from pandas in a future version. Use pandas.concat instead.\n",
      "  df_plyr_stats = df_plyr_stats.append(df)\n",
      "C:\\Users\\WaterDev\\AppData\\Local\\Temp\\ipykernel_8624\\2110702450.py:8: FutureWarning: The frame.append method is deprecated and will be removed from pandas in a future version. Use pandas.concat instead.\n",
      "  df_plyr_stats = df_plyr_stats.append(df)\n",
      "C:\\Users\\WaterDev\\AppData\\Local\\Temp\\ipykernel_8624\\2110702450.py:8: FutureWarning: The frame.append method is deprecated and will be removed from pandas in a future version. Use pandas.concat instead.\n",
      "  df_plyr_stats = df_plyr_stats.append(df)\n",
      "C:\\Users\\WaterDev\\AppData\\Local\\Temp\\ipykernel_8624\\2110702450.py:8: FutureWarning: The frame.append method is deprecated and will be removed from pandas in a future version. Use pandas.concat instead.\n",
      "  df_plyr_stats = df_plyr_stats.append(df)\n",
      "C:\\Users\\WaterDev\\AppData\\Local\\Temp\\ipykernel_8624\\2110702450.py:8: FutureWarning: The frame.append method is deprecated and will be removed from pandas in a future version. Use pandas.concat instead.\n",
      "  df_plyr_stats = df_plyr_stats.append(df)\n",
      "C:\\Users\\WaterDev\\AppData\\Local\\Temp\\ipykernel_8624\\2110702450.py:8: FutureWarning: The frame.append method is deprecated and will be removed from pandas in a future version. Use pandas.concat instead.\n",
      "  df_plyr_stats = df_plyr_stats.append(df)\n",
      "C:\\Users\\WaterDev\\AppData\\Local\\Temp\\ipykernel_8624\\2110702450.py:8: FutureWarning: The frame.append method is deprecated and will be removed from pandas in a future version. Use pandas.concat instead.\n",
      "  df_plyr_stats = df_plyr_stats.append(df)\n",
      "C:\\Users\\WaterDev\\AppData\\Local\\Temp\\ipykernel_8624\\2110702450.py:8: FutureWarning: The frame.append method is deprecated and will be removed from pandas in a future version. Use pandas.concat instead.\n",
      "  df_plyr_stats = df_plyr_stats.append(df)\n",
      "C:\\Users\\WaterDev\\AppData\\Local\\Temp\\ipykernel_8624\\2110702450.py:8: FutureWarning: The frame.append method is deprecated and will be removed from pandas in a future version. Use pandas.concat instead.\n",
      "  df_plyr_stats = df_plyr_stats.append(df)\n",
      "C:\\Users\\WaterDev\\AppData\\Local\\Temp\\ipykernel_8624\\2110702450.py:8: FutureWarning: The frame.append method is deprecated and will be removed from pandas in a future version. Use pandas.concat instead.\n",
      "  df_plyr_stats = df_plyr_stats.append(df)\n",
      "C:\\Users\\WaterDev\\AppData\\Local\\Temp\\ipykernel_8624\\2110702450.py:8: FutureWarning: The frame.append method is deprecated and will be removed from pandas in a future version. Use pandas.concat instead.\n",
      "  df_plyr_stats = df_plyr_stats.append(df)\n",
      "C:\\Users\\WaterDev\\AppData\\Local\\Temp\\ipykernel_8624\\2110702450.py:8: FutureWarning: The frame.append method is deprecated and will be removed from pandas in a future version. Use pandas.concat instead.\n",
      "  df_plyr_stats = df_plyr_stats.append(df)\n",
      "C:\\Users\\WaterDev\\AppData\\Local\\Temp\\ipykernel_8624\\2110702450.py:8: FutureWarning: The frame.append method is deprecated and will be removed from pandas in a future version. Use pandas.concat instead.\n",
      "  df_plyr_stats = df_plyr_stats.append(df)\n",
      "C:\\Users\\WaterDev\\AppData\\Local\\Temp\\ipykernel_8624\\2110702450.py:8: FutureWarning: The frame.append method is deprecated and will be removed from pandas in a future version. Use pandas.concat instead.\n",
      "  df_plyr_stats = df_plyr_stats.append(df)\n",
      "C:\\Users\\WaterDev\\AppData\\Local\\Temp\\ipykernel_8624\\2110702450.py:8: FutureWarning: The frame.append method is deprecated and will be removed from pandas in a future version. Use pandas.concat instead.\n",
      "  df_plyr_stats = df_plyr_stats.append(df)\n",
      "C:\\Users\\WaterDev\\AppData\\Local\\Temp\\ipykernel_8624\\2110702450.py:8: FutureWarning: The frame.append method is deprecated and will be removed from pandas in a future version. Use pandas.concat instead.\n",
      "  df_plyr_stats = df_plyr_stats.append(df)\n",
      "C:\\Users\\WaterDev\\AppData\\Local\\Temp\\ipykernel_8624\\2110702450.py:8: FutureWarning: The frame.append method is deprecated and will be removed from pandas in a future version. Use pandas.concat instead.\n",
      "  df_plyr_stats = df_plyr_stats.append(df)\n",
      "C:\\Users\\WaterDev\\AppData\\Local\\Temp\\ipykernel_8624\\2110702450.py:8: FutureWarning: The frame.append method is deprecated and will be removed from pandas in a future version. Use pandas.concat instead.\n",
      "  df_plyr_stats = df_plyr_stats.append(df)\n",
      "C:\\Users\\WaterDev\\AppData\\Local\\Temp\\ipykernel_8624\\2110702450.py:8: FutureWarning: The frame.append method is deprecated and will be removed from pandas in a future version. Use pandas.concat instead.\n",
      "  df_plyr_stats = df_plyr_stats.append(df)\n",
      "C:\\Users\\WaterDev\\AppData\\Local\\Temp\\ipykernel_8624\\2110702450.py:8: FutureWarning: The frame.append method is deprecated and will be removed from pandas in a future version. Use pandas.concat instead.\n",
      "  df_plyr_stats = df_plyr_stats.append(df)\n",
      "C:\\Users\\WaterDev\\AppData\\Local\\Temp\\ipykernel_8624\\2110702450.py:8: FutureWarning: The frame.append method is deprecated and will be removed from pandas in a future version. Use pandas.concat instead.\n",
      "  df_plyr_stats = df_plyr_stats.append(df)\n",
      "C:\\Users\\WaterDev\\AppData\\Local\\Temp\\ipykernel_8624\\2110702450.py:8: FutureWarning: The frame.append method is deprecated and will be removed from pandas in a future version. Use pandas.concat instead.\n",
      "  df_plyr_stats = df_plyr_stats.append(df)\n",
      "C:\\Users\\WaterDev\\AppData\\Local\\Temp\\ipykernel_8624\\2110702450.py:8: FutureWarning: The frame.append method is deprecated and will be removed from pandas in a future version. Use pandas.concat instead.\n",
      "  df_plyr_stats = df_plyr_stats.append(df)\n",
      "C:\\Users\\WaterDev\\AppData\\Local\\Temp\\ipykernel_8624\\2110702450.py:8: FutureWarning: The frame.append method is deprecated and will be removed from pandas in a future version. Use pandas.concat instead.\n",
      "  df_plyr_stats = df_plyr_stats.append(df)\n",
      "C:\\Users\\WaterDev\\AppData\\Local\\Temp\\ipykernel_8624\\2110702450.py:8: FutureWarning: The frame.append method is deprecated and will be removed from pandas in a future version. Use pandas.concat instead.\n",
      "  df_plyr_stats = df_plyr_stats.append(df)\n",
      "C:\\Users\\WaterDev\\AppData\\Local\\Temp\\ipykernel_8624\\2110702450.py:8: FutureWarning: The frame.append method is deprecated and will be removed from pandas in a future version. Use pandas.concat instead.\n",
      "  df_plyr_stats = df_plyr_stats.append(df)\n",
      "C:\\Users\\WaterDev\\AppData\\Local\\Temp\\ipykernel_8624\\2110702450.py:8: FutureWarning: The frame.append method is deprecated and will be removed from pandas in a future version. Use pandas.concat instead.\n",
      "  df_plyr_stats = df_plyr_stats.append(df)\n",
      "C:\\Users\\WaterDev\\AppData\\Local\\Temp\\ipykernel_8624\\2110702450.py:8: FutureWarning: The frame.append method is deprecated and will be removed from pandas in a future version. Use pandas.concat instead.\n",
      "  df_plyr_stats = df_plyr_stats.append(df)\n",
      "C:\\Users\\WaterDev\\AppData\\Local\\Temp\\ipykernel_8624\\2110702450.py:8: FutureWarning: The frame.append method is deprecated and will be removed from pandas in a future version. Use pandas.concat instead.\n",
      "  df_plyr_stats = df_plyr_stats.append(df)\n",
      "C:\\Users\\WaterDev\\AppData\\Local\\Temp\\ipykernel_8624\\2110702450.py:8: FutureWarning: The frame.append method is deprecated and will be removed from pandas in a future version. Use pandas.concat instead.\n",
      "  df_plyr_stats = df_plyr_stats.append(df)\n",
      "C:\\Users\\WaterDev\\AppData\\Local\\Temp\\ipykernel_8624\\2110702450.py:8: FutureWarning: The frame.append method is deprecated and will be removed from pandas in a future version. Use pandas.concat instead.\n",
      "  df_plyr_stats = df_plyr_stats.append(df)\n",
      "C:\\Users\\WaterDev\\AppData\\Local\\Temp\\ipykernel_8624\\2110702450.py:8: FutureWarning: The frame.append method is deprecated and will be removed from pandas in a future version. Use pandas.concat instead.\n",
      "  df_plyr_stats = df_plyr_stats.append(df)\n",
      "C:\\Users\\WaterDev\\AppData\\Local\\Temp\\ipykernel_8624\\2110702450.py:8: FutureWarning: The frame.append method is deprecated and will be removed from pandas in a future version. Use pandas.concat instead.\n",
      "  df_plyr_stats = df_plyr_stats.append(df)\n",
      "C:\\Users\\WaterDev\\AppData\\Local\\Temp\\ipykernel_8624\\2110702450.py:8: FutureWarning: The frame.append method is deprecated and will be removed from pandas in a future version. Use pandas.concat instead.\n",
      "  df_plyr_stats = df_plyr_stats.append(df)\n",
      "C:\\Users\\WaterDev\\AppData\\Local\\Temp\\ipykernel_8624\\2110702450.py:8: FutureWarning: The frame.append method is deprecated and will be removed from pandas in a future version. Use pandas.concat instead.\n",
      "  df_plyr_stats = df_plyr_stats.append(df)\n",
      "C:\\Users\\WaterDev\\AppData\\Local\\Temp\\ipykernel_8624\\2110702450.py:8: FutureWarning: The frame.append method is deprecated and will be removed from pandas in a future version. Use pandas.concat instead.\n",
      "  df_plyr_stats = df_plyr_stats.append(df)\n",
      "C:\\Users\\WaterDev\\AppData\\Local\\Temp\\ipykernel_8624\\2110702450.py:8: FutureWarning: The frame.append method is deprecated and will be removed from pandas in a future version. Use pandas.concat instead.\n",
      "  df_plyr_stats = df_plyr_stats.append(df)\n",
      "C:\\Users\\WaterDev\\AppData\\Local\\Temp\\ipykernel_8624\\2110702450.py:8: FutureWarning: The frame.append method is deprecated and will be removed from pandas in a future version. Use pandas.concat instead.\n",
      "  df_plyr_stats = df_plyr_stats.append(df)\n",
      "C:\\Users\\WaterDev\\AppData\\Local\\Temp\\ipykernel_8624\\2110702450.py:8: FutureWarning: The frame.append method is deprecated and will be removed from pandas in a future version. Use pandas.concat instead.\n",
      "  df_plyr_stats = df_plyr_stats.append(df)\n",
      "C:\\Users\\WaterDev\\AppData\\Local\\Temp\\ipykernel_8624\\2110702450.py:8: FutureWarning: The frame.append method is deprecated and will be removed from pandas in a future version. Use pandas.concat instead.\n",
      "  df_plyr_stats = df_plyr_stats.append(df)\n",
      "C:\\Users\\WaterDev\\AppData\\Local\\Temp\\ipykernel_8624\\2110702450.py:8: FutureWarning: The frame.append method is deprecated and will be removed from pandas in a future version. Use pandas.concat instead.\n",
      "  df_plyr_stats = df_plyr_stats.append(df)\n",
      "C:\\Users\\WaterDev\\AppData\\Local\\Temp\\ipykernel_8624\\2110702450.py:8: FutureWarning: The frame.append method is deprecated and will be removed from pandas in a future version. Use pandas.concat instead.\n",
      "  df_plyr_stats = df_plyr_stats.append(df)\n",
      "C:\\Users\\WaterDev\\AppData\\Local\\Temp\\ipykernel_8624\\2110702450.py:8: FutureWarning: The frame.append method is deprecated and will be removed from pandas in a future version. Use pandas.concat instead.\n",
      "  df_plyr_stats = df_plyr_stats.append(df)\n",
      "C:\\Users\\WaterDev\\AppData\\Local\\Temp\\ipykernel_8624\\2110702450.py:8: FutureWarning: The frame.append method is deprecated and will be removed from pandas in a future version. Use pandas.concat instead.\n",
      "  df_plyr_stats = df_plyr_stats.append(df)\n",
      "C:\\Users\\WaterDev\\AppData\\Local\\Temp\\ipykernel_8624\\2110702450.py:8: FutureWarning: The frame.append method is deprecated and will be removed from pandas in a future version. Use pandas.concat instead.\n",
      "  df_plyr_stats = df_plyr_stats.append(df)\n",
      "C:\\Users\\WaterDev\\AppData\\Local\\Temp\\ipykernel_8624\\2110702450.py:8: FutureWarning: The frame.append method is deprecated and will be removed from pandas in a future version. Use pandas.concat instead.\n",
      "  df_plyr_stats = df_plyr_stats.append(df)\n",
      "C:\\Users\\WaterDev\\AppData\\Local\\Temp\\ipykernel_8624\\2110702450.py:8: FutureWarning: The frame.append method is deprecated and will be removed from pandas in a future version. Use pandas.concat instead.\n",
      "  df_plyr_stats = df_plyr_stats.append(df)\n",
      "C:\\Users\\WaterDev\\AppData\\Local\\Temp\\ipykernel_8624\\2110702450.py:8: FutureWarning: The frame.append method is deprecated and will be removed from pandas in a future version. Use pandas.concat instead.\n",
      "  df_plyr_stats = df_plyr_stats.append(df)\n",
      "C:\\Users\\WaterDev\\AppData\\Local\\Temp\\ipykernel_8624\\2110702450.py:8: FutureWarning: The frame.append method is deprecated and will be removed from pandas in a future version. Use pandas.concat instead.\n",
      "  df_plyr_stats = df_plyr_stats.append(df)\n",
      "C:\\Users\\WaterDev\\AppData\\Local\\Temp\\ipykernel_8624\\2110702450.py:8: FutureWarning: The frame.append method is deprecated and will be removed from pandas in a future version. Use pandas.concat instead.\n",
      "  df_plyr_stats = df_plyr_stats.append(df)\n",
      "C:\\Users\\WaterDev\\AppData\\Local\\Temp\\ipykernel_8624\\2110702450.py:8: FutureWarning: The frame.append method is deprecated and will be removed from pandas in a future version. Use pandas.concat instead.\n",
      "  df_plyr_stats = df_plyr_stats.append(df)\n",
      "C:\\Users\\WaterDev\\AppData\\Local\\Temp\\ipykernel_8624\\2110702450.py:8: FutureWarning: The frame.append method is deprecated and will be removed from pandas in a future version. Use pandas.concat instead.\n",
      "  df_plyr_stats = df_plyr_stats.append(df)\n",
      "C:\\Users\\WaterDev\\AppData\\Local\\Temp\\ipykernel_8624\\2110702450.py:8: FutureWarning: The frame.append method is deprecated and will be removed from pandas in a future version. Use pandas.concat instead.\n",
      "  df_plyr_stats = df_plyr_stats.append(df)\n",
      "C:\\Users\\WaterDev\\AppData\\Local\\Temp\\ipykernel_8624\\2110702450.py:8: FutureWarning: The frame.append method is deprecated and will be removed from pandas in a future version. Use pandas.concat instead.\n",
      "  df_plyr_stats = df_plyr_stats.append(df)\n",
      "C:\\Users\\WaterDev\\AppData\\Local\\Temp\\ipykernel_8624\\2110702450.py:8: FutureWarning: The frame.append method is deprecated and will be removed from pandas in a future version. Use pandas.concat instead.\n",
      "  df_plyr_stats = df_plyr_stats.append(df)\n",
      "C:\\Users\\WaterDev\\AppData\\Local\\Temp\\ipykernel_8624\\2110702450.py:8: FutureWarning: The frame.append method is deprecated and will be removed from pandas in a future version. Use pandas.concat instead.\n",
      "  df_plyr_stats = df_plyr_stats.append(df)\n",
      "C:\\Users\\WaterDev\\AppData\\Local\\Temp\\ipykernel_8624\\2110702450.py:8: FutureWarning: The frame.append method is deprecated and will be removed from pandas in a future version. Use pandas.concat instead.\n",
      "  df_plyr_stats = df_plyr_stats.append(df)\n",
      "C:\\Users\\WaterDev\\AppData\\Local\\Temp\\ipykernel_8624\\2110702450.py:8: FutureWarning: The frame.append method is deprecated and will be removed from pandas in a future version. Use pandas.concat instead.\n",
      "  df_plyr_stats = df_plyr_stats.append(df)\n",
      "C:\\Users\\WaterDev\\AppData\\Local\\Temp\\ipykernel_8624\\2110702450.py:8: FutureWarning: The frame.append method is deprecated and will be removed from pandas in a future version. Use pandas.concat instead.\n",
      "  df_plyr_stats = df_plyr_stats.append(df)\n",
      "C:\\Users\\WaterDev\\AppData\\Local\\Temp\\ipykernel_8624\\2110702450.py:8: FutureWarning: The frame.append method is deprecated and will be removed from pandas in a future version. Use pandas.concat instead.\n",
      "  df_plyr_stats = df_plyr_stats.append(df)\n",
      "C:\\Users\\WaterDev\\AppData\\Local\\Temp\\ipykernel_8624\\2110702450.py:8: FutureWarning: The frame.append method is deprecated and will be removed from pandas in a future version. Use pandas.concat instead.\n",
      "  df_plyr_stats = df_plyr_stats.append(df)\n",
      "C:\\Users\\WaterDev\\AppData\\Local\\Temp\\ipykernel_8624\\2110702450.py:8: FutureWarning: The frame.append method is deprecated and will be removed from pandas in a future version. Use pandas.concat instead.\n",
      "  df_plyr_stats = df_plyr_stats.append(df)\n",
      "C:\\Users\\WaterDev\\AppData\\Local\\Temp\\ipykernel_8624\\2110702450.py:8: FutureWarning: The frame.append method is deprecated and will be removed from pandas in a future version. Use pandas.concat instead.\n",
      "  df_plyr_stats = df_plyr_stats.append(df)\n",
      "C:\\Users\\WaterDev\\AppData\\Local\\Temp\\ipykernel_8624\\2110702450.py:8: FutureWarning: The frame.append method is deprecated and will be removed from pandas in a future version. Use pandas.concat instead.\n",
      "  df_plyr_stats = df_plyr_stats.append(df)\n",
      "C:\\Users\\WaterDev\\AppData\\Local\\Temp\\ipykernel_8624\\2110702450.py:8: FutureWarning: The frame.append method is deprecated and will be removed from pandas in a future version. Use pandas.concat instead.\n",
      "  df_plyr_stats = df_plyr_stats.append(df)\n",
      "C:\\Users\\WaterDev\\AppData\\Local\\Temp\\ipykernel_8624\\2110702450.py:8: FutureWarning: The frame.append method is deprecated and will be removed from pandas in a future version. Use pandas.concat instead.\n",
      "  df_plyr_stats = df_plyr_stats.append(df)\n",
      "C:\\Users\\WaterDev\\AppData\\Local\\Temp\\ipykernel_8624\\2110702450.py:8: FutureWarning: The frame.append method is deprecated and will be removed from pandas in a future version. Use pandas.concat instead.\n",
      "  df_plyr_stats = df_plyr_stats.append(df)\n",
      "C:\\Users\\WaterDev\\AppData\\Local\\Temp\\ipykernel_8624\\2110702450.py:8: FutureWarning: The frame.append method is deprecated and will be removed from pandas in a future version. Use pandas.concat instead.\n",
      "  df_plyr_stats = df_plyr_stats.append(df)\n",
      "C:\\Users\\WaterDev\\AppData\\Local\\Temp\\ipykernel_8624\\2110702450.py:8: FutureWarning: The frame.append method is deprecated and will be removed from pandas in a future version. Use pandas.concat instead.\n",
      "  df_plyr_stats = df_plyr_stats.append(df)\n",
      "C:\\Users\\WaterDev\\AppData\\Local\\Temp\\ipykernel_8624\\2110702450.py:8: FutureWarning: The frame.append method is deprecated and will be removed from pandas in a future version. Use pandas.concat instead.\n",
      "  df_plyr_stats = df_plyr_stats.append(df)\n",
      "C:\\Users\\WaterDev\\AppData\\Local\\Temp\\ipykernel_8624\\2110702450.py:8: FutureWarning: The frame.append method is deprecated and will be removed from pandas in a future version. Use pandas.concat instead.\n",
      "  df_plyr_stats = df_plyr_stats.append(df)\n",
      "C:\\Users\\WaterDev\\AppData\\Local\\Temp\\ipykernel_8624\\2110702450.py:8: FutureWarning: The frame.append method is deprecated and will be removed from pandas in a future version. Use pandas.concat instead.\n",
      "  df_plyr_stats = df_plyr_stats.append(df)\n",
      "C:\\Users\\WaterDev\\AppData\\Local\\Temp\\ipykernel_8624\\2110702450.py:8: FutureWarning: The frame.append method is deprecated and will be removed from pandas in a future version. Use pandas.concat instead.\n",
      "  df_plyr_stats = df_plyr_stats.append(df)\n",
      "C:\\Users\\WaterDev\\AppData\\Local\\Temp\\ipykernel_8624\\2110702450.py:8: FutureWarning: The frame.append method is deprecated and will be removed from pandas in a future version. Use pandas.concat instead.\n",
      "  df_plyr_stats = df_plyr_stats.append(df)\n",
      "C:\\Users\\WaterDev\\AppData\\Local\\Temp\\ipykernel_8624\\2110702450.py:8: FutureWarning: The frame.append method is deprecated and will be removed from pandas in a future version. Use pandas.concat instead.\n",
      "  df_plyr_stats = df_plyr_stats.append(df)\n",
      "C:\\Users\\WaterDev\\AppData\\Local\\Temp\\ipykernel_8624\\2110702450.py:8: FutureWarning: The frame.append method is deprecated and will be removed from pandas in a future version. Use pandas.concat instead.\n",
      "  df_plyr_stats = df_plyr_stats.append(df)\n",
      "C:\\Users\\WaterDev\\AppData\\Local\\Temp\\ipykernel_8624\\2110702450.py:8: FutureWarning: The frame.append method is deprecated and will be removed from pandas in a future version. Use pandas.concat instead.\n",
      "  df_plyr_stats = df_plyr_stats.append(df)\n",
      "C:\\Users\\WaterDev\\AppData\\Local\\Temp\\ipykernel_8624\\2110702450.py:8: FutureWarning: The frame.append method is deprecated and will be removed from pandas in a future version. Use pandas.concat instead.\n",
      "  df_plyr_stats = df_plyr_stats.append(df)\n",
      "C:\\Users\\WaterDev\\AppData\\Local\\Temp\\ipykernel_8624\\2110702450.py:8: FutureWarning: The frame.append method is deprecated and will be removed from pandas in a future version. Use pandas.concat instead.\n",
      "  df_plyr_stats = df_plyr_stats.append(df)\n",
      "C:\\Users\\WaterDev\\AppData\\Local\\Temp\\ipykernel_8624\\2110702450.py:8: FutureWarning: The frame.append method is deprecated and will be removed from pandas in a future version. Use pandas.concat instead.\n",
      "  df_plyr_stats = df_plyr_stats.append(df)\n",
      "C:\\Users\\WaterDev\\AppData\\Local\\Temp\\ipykernel_8624\\2110702450.py:8: FutureWarning: The frame.append method is deprecated and will be removed from pandas in a future version. Use pandas.concat instead.\n",
      "  df_plyr_stats = df_plyr_stats.append(df)\n",
      "C:\\Users\\WaterDev\\AppData\\Local\\Temp\\ipykernel_8624\\2110702450.py:8: FutureWarning: The frame.append method is deprecated and will be removed from pandas in a future version. Use pandas.concat instead.\n",
      "  df_plyr_stats = df_plyr_stats.append(df)\n",
      "C:\\Users\\WaterDev\\AppData\\Local\\Temp\\ipykernel_8624\\2110702450.py:8: FutureWarning: The frame.append method is deprecated and will be removed from pandas in a future version. Use pandas.concat instead.\n",
      "  df_plyr_stats = df_plyr_stats.append(df)\n",
      "C:\\Users\\WaterDev\\AppData\\Local\\Temp\\ipykernel_8624\\2110702450.py:8: FutureWarning: The frame.append method is deprecated and will be removed from pandas in a future version. Use pandas.concat instead.\n",
      "  df_plyr_stats = df_plyr_stats.append(df)\n",
      "C:\\Users\\WaterDev\\AppData\\Local\\Temp\\ipykernel_8624\\2110702450.py:8: FutureWarning: The frame.append method is deprecated and will be removed from pandas in a future version. Use pandas.concat instead.\n",
      "  df_plyr_stats = df_plyr_stats.append(df)\n",
      "C:\\Users\\WaterDev\\AppData\\Local\\Temp\\ipykernel_8624\\2110702450.py:8: FutureWarning: The frame.append method is deprecated and will be removed from pandas in a future version. Use pandas.concat instead.\n",
      "  df_plyr_stats = df_plyr_stats.append(df)\n",
      "C:\\Users\\WaterDev\\AppData\\Local\\Temp\\ipykernel_8624\\2110702450.py:8: FutureWarning: The frame.append method is deprecated and will be removed from pandas in a future version. Use pandas.concat instead.\n",
      "  df_plyr_stats = df_plyr_stats.append(df)\n",
      "C:\\Users\\WaterDev\\AppData\\Local\\Temp\\ipykernel_8624\\2110702450.py:8: FutureWarning: The frame.append method is deprecated and will be removed from pandas in a future version. Use pandas.concat instead.\n",
      "  df_plyr_stats = df_plyr_stats.append(df)\n",
      "C:\\Users\\WaterDev\\AppData\\Local\\Temp\\ipykernel_8624\\2110702450.py:8: FutureWarning: The frame.append method is deprecated and will be removed from pandas in a future version. Use pandas.concat instead.\n",
      "  df_plyr_stats = df_plyr_stats.append(df)\n",
      "C:\\Users\\WaterDev\\AppData\\Local\\Temp\\ipykernel_8624\\2110702450.py:8: FutureWarning: The frame.append method is deprecated and will be removed from pandas in a future version. Use pandas.concat instead.\n",
      "  df_plyr_stats = df_plyr_stats.append(df)\n",
      "C:\\Users\\WaterDev\\AppData\\Local\\Temp\\ipykernel_8624\\2110702450.py:8: FutureWarning: The frame.append method is deprecated and will be removed from pandas in a future version. Use pandas.concat instead.\n",
      "  df_plyr_stats = df_plyr_stats.append(df)\n",
      "C:\\Users\\WaterDev\\AppData\\Local\\Temp\\ipykernel_8624\\2110702450.py:8: FutureWarning: The frame.append method is deprecated and will be removed from pandas in a future version. Use pandas.concat instead.\n",
      "  df_plyr_stats = df_plyr_stats.append(df)\n",
      "C:\\Users\\WaterDev\\AppData\\Local\\Temp\\ipykernel_8624\\2110702450.py:8: FutureWarning: The frame.append method is deprecated and will be removed from pandas in a future version. Use pandas.concat instead.\n",
      "  df_plyr_stats = df_plyr_stats.append(df)\n",
      "C:\\Users\\WaterDev\\AppData\\Local\\Temp\\ipykernel_8624\\2110702450.py:8: FutureWarning: The frame.append method is deprecated and will be removed from pandas in a future version. Use pandas.concat instead.\n",
      "  df_plyr_stats = df_plyr_stats.append(df)\n",
      "C:\\Users\\WaterDev\\AppData\\Local\\Temp\\ipykernel_8624\\2110702450.py:8: FutureWarning: The frame.append method is deprecated and will be removed from pandas in a future version. Use pandas.concat instead.\n",
      "  df_plyr_stats = df_plyr_stats.append(df)\n",
      "C:\\Users\\WaterDev\\AppData\\Local\\Temp\\ipykernel_8624\\2110702450.py:8: FutureWarning: The frame.append method is deprecated and will be removed from pandas in a future version. Use pandas.concat instead.\n",
      "  df_plyr_stats = df_plyr_stats.append(df)\n",
      "C:\\Users\\WaterDev\\AppData\\Local\\Temp\\ipykernel_8624\\2110702450.py:8: FutureWarning: The frame.append method is deprecated and will be removed from pandas in a future version. Use pandas.concat instead.\n",
      "  df_plyr_stats = df_plyr_stats.append(df)\n",
      "C:\\Users\\WaterDev\\AppData\\Local\\Temp\\ipykernel_8624\\2110702450.py:8: FutureWarning: The frame.append method is deprecated and will be removed from pandas in a future version. Use pandas.concat instead.\n",
      "  df_plyr_stats = df_plyr_stats.append(df)\n",
      "C:\\Users\\WaterDev\\AppData\\Local\\Temp\\ipykernel_8624\\2110702450.py:8: FutureWarning: The frame.append method is deprecated and will be removed from pandas in a future version. Use pandas.concat instead.\n",
      "  df_plyr_stats = df_plyr_stats.append(df)\n",
      "C:\\Users\\WaterDev\\AppData\\Local\\Temp\\ipykernel_8624\\2110702450.py:8: FutureWarning: The frame.append method is deprecated and will be removed from pandas in a future version. Use pandas.concat instead.\n",
      "  df_plyr_stats = df_plyr_stats.append(df)\n",
      "C:\\Users\\WaterDev\\AppData\\Local\\Temp\\ipykernel_8624\\2110702450.py:8: FutureWarning: The frame.append method is deprecated and will be removed from pandas in a future version. Use pandas.concat instead.\n",
      "  df_plyr_stats = df_plyr_stats.append(df)\n",
      "C:\\Users\\WaterDev\\AppData\\Local\\Temp\\ipykernel_8624\\2110702450.py:8: FutureWarning: The frame.append method is deprecated and will be removed from pandas in a future version. Use pandas.concat instead.\n",
      "  df_plyr_stats = df_plyr_stats.append(df)\n",
      "C:\\Users\\WaterDev\\AppData\\Local\\Temp\\ipykernel_8624\\2110702450.py:8: FutureWarning: The frame.append method is deprecated and will be removed from pandas in a future version. Use pandas.concat instead.\n",
      "  df_plyr_stats = df_plyr_stats.append(df)\n",
      "C:\\Users\\WaterDev\\AppData\\Local\\Temp\\ipykernel_8624\\2110702450.py:8: FutureWarning: The frame.append method is deprecated and will be removed from pandas in a future version. Use pandas.concat instead.\n",
      "  df_plyr_stats = df_plyr_stats.append(df)\n",
      "C:\\Users\\WaterDev\\AppData\\Local\\Temp\\ipykernel_8624\\2110702450.py:8: FutureWarning: The frame.append method is deprecated and will be removed from pandas in a future version. Use pandas.concat instead.\n",
      "  df_plyr_stats = df_plyr_stats.append(df)\n",
      "C:\\Users\\WaterDev\\AppData\\Local\\Temp\\ipykernel_8624\\2110702450.py:8: FutureWarning: The frame.append method is deprecated and will be removed from pandas in a future version. Use pandas.concat instead.\n",
      "  df_plyr_stats = df_plyr_stats.append(df)\n",
      "C:\\Users\\WaterDev\\AppData\\Local\\Temp\\ipykernel_8624\\2110702450.py:8: FutureWarning: The frame.append method is deprecated and will be removed from pandas in a future version. Use pandas.concat instead.\n",
      "  df_plyr_stats = df_plyr_stats.append(df)\n",
      "C:\\Users\\WaterDev\\AppData\\Local\\Temp\\ipykernel_8624\\2110702450.py:8: FutureWarning: The frame.append method is deprecated and will be removed from pandas in a future version. Use pandas.concat instead.\n",
      "  df_plyr_stats = df_plyr_stats.append(df)\n",
      "C:\\Users\\WaterDev\\AppData\\Local\\Temp\\ipykernel_8624\\2110702450.py:8: FutureWarning: The frame.append method is deprecated and will be removed from pandas in a future version. Use pandas.concat instead.\n",
      "  df_plyr_stats = df_plyr_stats.append(df)\n",
      "C:\\Users\\WaterDev\\AppData\\Local\\Temp\\ipykernel_8624\\2110702450.py:8: FutureWarning: The frame.append method is deprecated and will be removed from pandas in a future version. Use pandas.concat instead.\n",
      "  df_plyr_stats = df_plyr_stats.append(df)\n",
      "C:\\Users\\WaterDev\\AppData\\Local\\Temp\\ipykernel_8624\\2110702450.py:8: FutureWarning: The frame.append method is deprecated and will be removed from pandas in a future version. Use pandas.concat instead.\n",
      "  df_plyr_stats = df_plyr_stats.append(df)\n",
      "C:\\Users\\WaterDev\\AppData\\Local\\Temp\\ipykernel_8624\\2110702450.py:8: FutureWarning: The frame.append method is deprecated and will be removed from pandas in a future version. Use pandas.concat instead.\n",
      "  df_plyr_stats = df_plyr_stats.append(df)\n",
      "C:\\Users\\WaterDev\\AppData\\Local\\Temp\\ipykernel_8624\\2110702450.py:8: FutureWarning: The frame.append method is deprecated and will be removed from pandas in a future version. Use pandas.concat instead.\n",
      "  df_plyr_stats = df_plyr_stats.append(df)\n",
      "C:\\Users\\WaterDev\\AppData\\Local\\Temp\\ipykernel_8624\\2110702450.py:8: FutureWarning: The frame.append method is deprecated and will be removed from pandas in a future version. Use pandas.concat instead.\n",
      "  df_plyr_stats = df_plyr_stats.append(df)\n",
      "C:\\Users\\WaterDev\\AppData\\Local\\Temp\\ipykernel_8624\\2110702450.py:8: FutureWarning: The frame.append method is deprecated and will be removed from pandas in a future version. Use pandas.concat instead.\n",
      "  df_plyr_stats = df_plyr_stats.append(df)\n",
      "C:\\Users\\WaterDev\\AppData\\Local\\Temp\\ipykernel_8624\\2110702450.py:8: FutureWarning: The frame.append method is deprecated and will be removed from pandas in a future version. Use pandas.concat instead.\n",
      "  df_plyr_stats = df_plyr_stats.append(df)\n",
      "C:\\Users\\WaterDev\\AppData\\Local\\Temp\\ipykernel_8624\\2110702450.py:8: FutureWarning: The frame.append method is deprecated and will be removed from pandas in a future version. Use pandas.concat instead.\n",
      "  df_plyr_stats = df_plyr_stats.append(df)\n",
      "C:\\Users\\WaterDev\\AppData\\Local\\Temp\\ipykernel_8624\\2110702450.py:8: FutureWarning: The frame.append method is deprecated and will be removed from pandas in a future version. Use pandas.concat instead.\n",
      "  df_plyr_stats = df_plyr_stats.append(df)\n"
     ]
    },
    {
     "ename": "AttributeError",
     "evalue": "module 'pandas' has no attribute 'to_sql'",
     "output_type": "error",
     "traceback": [
      "\u001b[1;31m---------------------------------------------------------------------------\u001b[0m",
      "\u001b[1;31mAttributeError\u001b[0m                            Traceback (most recent call last)",
      "Cell \u001b[1;32mIn[90], line 9\u001b[0m\n\u001b[0;32m      7\u001b[0m         df[\u001b[38;5;124m'\u001b[39m\u001b[38;5;124mperson.id\u001b[39m\u001b[38;5;124m'\u001b[39m] \u001b[38;5;241m=\u001b[39m player\n\u001b[0;32m      8\u001b[0m         df_plyr_stats \u001b[38;5;241m=\u001b[39m df_plyr_stats\u001b[38;5;241m.\u001b[39mappend(df)\n\u001b[1;32m----> 9\u001b[0m df_plyr_stats \u001b[38;5;241m=\u001b[39m \u001b[43mpd\u001b[49m\u001b[38;5;241;43m.\u001b[39;49m\u001b[43mto_sql\u001b[49m(\u001b[38;5;124m'\u001b[39m\u001b[38;5;124mplayerTenStats\u001b[39m\u001b[38;5;124m'\u001b[39m, con\u001b[38;5;241m=\u001b[39mengine, if_exists\u001b[38;5;241m=\u001b[39m\u001b[38;5;124m'\u001b[39m\u001b[38;5;124mreplace\u001b[39m\u001b[38;5;124m'\u001b[39m)\n",
      "File \u001b[1;32m~\\Miniconda3\\envs\\portfolio\\lib\\site-packages\\pandas\\__init__.py:264\u001b[0m, in \u001b[0;36m__getattr__\u001b[1;34m(name)\u001b[0m\n\u001b[0;32m    260\u001b[0m     \u001b[38;5;28;01mfrom\u001b[39;00m \u001b[38;5;21;01mpandas\u001b[39;00m\u001b[38;5;21;01m.\u001b[39;00m\u001b[38;5;21;01mcore\u001b[39;00m\u001b[38;5;21;01m.\u001b[39;00m\u001b[38;5;21;01marrays\u001b[39;00m\u001b[38;5;21;01m.\u001b[39;00m\u001b[38;5;21;01msparse\u001b[39;00m \u001b[38;5;28;01mimport\u001b[39;00m SparseArray \u001b[38;5;28;01mas\u001b[39;00m _SparseArray\n\u001b[0;32m    262\u001b[0m     \u001b[38;5;28;01mreturn\u001b[39;00m _SparseArray\n\u001b[1;32m--> 264\u001b[0m \u001b[38;5;28;01mraise\u001b[39;00m \u001b[38;5;167;01mAttributeError\u001b[39;00m(\u001b[38;5;124mf\u001b[39m\u001b[38;5;124m\"\u001b[39m\u001b[38;5;124mmodule \u001b[39m\u001b[38;5;124m'\u001b[39m\u001b[38;5;124mpandas\u001b[39m\u001b[38;5;124m'\u001b[39m\u001b[38;5;124m has no attribute \u001b[39m\u001b[38;5;124m'\u001b[39m\u001b[38;5;132;01m{\u001b[39;00mname\u001b[38;5;132;01m}\u001b[39;00m\u001b[38;5;124m'\u001b[39m\u001b[38;5;124m\"\u001b[39m)\n",
      "\u001b[1;31mAttributeError\u001b[0m: module 'pandas' has no attribute 'to_sql'"
     ]
    }
   ],
   "source": [
    "# using ten year player list get stats for each player, on each team, each season\n",
    "df_plyr_stats = pd.DataFrame()\n",
    "for player in df_players['person.id'].unique()[:20]:\n",
    "    for season in df_players['season'].unique():\n",
    "        df = nhlstats().playerSeasonStats(player, season)\n",
    "        df['season'] = season\n",
    "        df['person.id'] = player\n",
    "        df_plyr_stats = df_plyr_stats.append(df)\n",
    "df_plyr_stats = pd.to_sql('playerTenStats', con=engine, if_exists='replace')"
   ]
  },
  {
   "cell_type": "code",
   "execution_count": 91,
   "id": "68790146-992b-4f82-9465-f60f1d5c7af0",
   "metadata": {
    "tags": []
   },
   "outputs": [
    {
     "data": {
      "text/html": [
       "<div>\n",
       "<style scoped>\n",
       "    .dataframe tbody tr th:only-of-type {\n",
       "        vertical-align: middle;\n",
       "    }\n",
       "\n",
       "    .dataframe tbody tr th {\n",
       "        vertical-align: top;\n",
       "    }\n",
       "\n",
       "    .dataframe thead th {\n",
       "        text-align: right;\n",
       "    }\n",
       "</style>\n",
       "<table border=\"1\" class=\"dataframe\">\n",
       "  <thead>\n",
       "    <tr style=\"text-align: right;\">\n",
       "      <th></th>\n",
       "      <th>season</th>\n",
       "      <th>stat.timeOnIce</th>\n",
       "      <th>stat.assists</th>\n",
       "      <th>stat.goals</th>\n",
       "      <th>stat.pim</th>\n",
       "      <th>stat.shots</th>\n",
       "      <th>stat.games</th>\n",
       "      <th>stat.hits</th>\n",
       "      <th>stat.powerPlayGoals</th>\n",
       "      <th>stat.powerPlayPoints</th>\n",
       "      <th>...</th>\n",
       "      <th>stat.shortHandedTimeOnIce</th>\n",
       "      <th>stat.blocked</th>\n",
       "      <th>stat.plusMinus</th>\n",
       "      <th>stat.points</th>\n",
       "      <th>stat.shifts</th>\n",
       "      <th>stat.timeOnIcePerGame</th>\n",
       "      <th>stat.evenTimeOnIcePerGame</th>\n",
       "      <th>stat.shortHandedTimeOnIcePerGame</th>\n",
       "      <th>stat.powerPlayTimeOnIcePerGame</th>\n",
       "      <th>person.id</th>\n",
       "    </tr>\n",
       "  </thead>\n",
       "  <tbody>\n",
       "    <tr>\n",
       "      <th>0</th>\n",
       "      <td>20122013</td>\n",
       "      <td>721:51</td>\n",
       "      <td>12.0</td>\n",
       "      <td>12.0</td>\n",
       "      <td>28.0</td>\n",
       "      <td>96.0</td>\n",
       "      <td>46.0</td>\n",
       "      <td>8.0</td>\n",
       "      <td>3.0</td>\n",
       "      <td>7.0</td>\n",
       "      <td>...</td>\n",
       "      <td>00:53</td>\n",
       "      <td>10.0</td>\n",
       "      <td>-10.0</td>\n",
       "      <td>24.0</td>\n",
       "      <td>871.0</td>\n",
       "      <td>15:41</td>\n",
       "      <td>13:29</td>\n",
       "      <td>00:01</td>\n",
       "      <td>02:10</td>\n",
       "      <td>8457981</td>\n",
       "    </tr>\n",
       "    <tr>\n",
       "      <th>0</th>\n",
       "      <td>20132014</td>\n",
       "      <td>904:05</td>\n",
       "      <td>18.0</td>\n",
       "      <td>9.0</td>\n",
       "      <td>12.0</td>\n",
       "      <td>111.0</td>\n",
       "      <td>64.0</td>\n",
       "      <td>15.0</td>\n",
       "      <td>4.0</td>\n",
       "      <td>8.0</td>\n",
       "      <td>...</td>\n",
       "      <td>01:08</td>\n",
       "      <td>8.0</td>\n",
       "      <td>8.0</td>\n",
       "      <td>27.0</td>\n",
       "      <td>1109.0</td>\n",
       "      <td>14:07</td>\n",
       "      <td>11:42</td>\n",
       "      <td>00:01</td>\n",
       "      <td>02:24</td>\n",
       "      <td>8457981</td>\n",
       "    </tr>\n",
       "    <tr>\n",
       "      <th>0</th>\n",
       "      <td>20122013</td>\n",
       "      <td>827:13</td>\n",
       "      <td>19.0</td>\n",
       "      <td>8.0</td>\n",
       "      <td>18.0</td>\n",
       "      <td>55.0</td>\n",
       "      <td>47.0</td>\n",
       "      <td>31.0</td>\n",
       "      <td>4.0</td>\n",
       "      <td>8.0</td>\n",
       "      <td>...</td>\n",
       "      <td>98:28</td>\n",
       "      <td>15.0</td>\n",
       "      <td>4.0</td>\n",
       "      <td>27.0</td>\n",
       "      <td>1121.0</td>\n",
       "      <td>17:36</td>\n",
       "      <td>13:44</td>\n",
       "      <td>02:05</td>\n",
       "      <td>01:45</td>\n",
       "      <td>8459442</td>\n",
       "    </tr>\n",
       "    <tr>\n",
       "      <th>0</th>\n",
       "      <td>20132014</td>\n",
       "      <td>978:09</td>\n",
       "      <td>18.0</td>\n",
       "      <td>11.0</td>\n",
       "      <td>46.0</td>\n",
       "      <td>81.0</td>\n",
       "      <td>65.0</td>\n",
       "      <td>29.0</td>\n",
       "      <td>0.0</td>\n",
       "      <td>0.0</td>\n",
       "      <td>...</td>\n",
       "      <td>102:06</td>\n",
       "      <td>30.0</td>\n",
       "      <td>3.0</td>\n",
       "      <td>29.0</td>\n",
       "      <td>1445.0</td>\n",
       "      <td>15:02</td>\n",
       "      <td>12:48</td>\n",
       "      <td>01:34</td>\n",
       "      <td>00:39</td>\n",
       "      <td>8459442</td>\n",
       "    </tr>\n",
       "    <tr>\n",
       "      <th>0</th>\n",
       "      <td>20122013</td>\n",
       "      <td>920:53</td>\n",
       "      <td>10.0</td>\n",
       "      <td>7.0</td>\n",
       "      <td>52.0</td>\n",
       "      <td>80.0</td>\n",
       "      <td>44.0</td>\n",
       "      <td>34.0</td>\n",
       "      <td>2.0</td>\n",
       "      <td>5.0</td>\n",
       "      <td>...</td>\n",
       "      <td>109:45</td>\n",
       "      <td>58.0</td>\n",
       "      <td>19.0</td>\n",
       "      <td>17.0</td>\n",
       "      <td>1096.0</td>\n",
       "      <td>20:55</td>\n",
       "      <td>16:36</td>\n",
       "      <td>02:29</td>\n",
       "      <td>01:49</td>\n",
       "      <td>8460561</td>\n",
       "    </tr>\n",
       "    <tr>\n",
       "      <th>...</th>\n",
       "      <td>...</td>\n",
       "      <td>...</td>\n",
       "      <td>...</td>\n",
       "      <td>...</td>\n",
       "      <td>...</td>\n",
       "      <td>...</td>\n",
       "      <td>...</td>\n",
       "      <td>...</td>\n",
       "      <td>...</td>\n",
       "      <td>...</td>\n",
       "      <td>...</td>\n",
       "      <td>...</td>\n",
       "      <td>...</td>\n",
       "      <td>...</td>\n",
       "      <td>...</td>\n",
       "      <td>...</td>\n",
       "      <td>...</td>\n",
       "      <td>...</td>\n",
       "      <td>...</td>\n",
       "      <td>...</td>\n",
       "      <td>...</td>\n",
       "    </tr>\n",
       "    <tr>\n",
       "      <th>0</th>\n",
       "      <td>20172018</td>\n",
       "      <td>1223:40</td>\n",
       "      <td>26.0</td>\n",
       "      <td>17.0</td>\n",
       "      <td>73.0</td>\n",
       "      <td>141.0</td>\n",
       "      <td>74.0</td>\n",
       "      <td>150.0</td>\n",
       "      <td>1.0</td>\n",
       "      <td>7.0</td>\n",
       "      <td>...</td>\n",
       "      <td>00:35</td>\n",
       "      <td>14.0</td>\n",
       "      <td>1.0</td>\n",
       "      <td>43.0</td>\n",
       "      <td>1477.0</td>\n",
       "      <td>16:32</td>\n",
       "      <td>14:30</td>\n",
       "      <td>00:00</td>\n",
       "      <td>02:01</td>\n",
       "      <td>8474034</td>\n",
       "    </tr>\n",
       "    <tr>\n",
       "      <th>0</th>\n",
       "      <td>20182019</td>\n",
       "      <td>1048:33</td>\n",
       "      <td>18.0</td>\n",
       "      <td>10.0</td>\n",
       "      <td>64.0</td>\n",
       "      <td>118.0</td>\n",
       "      <td>74.0</td>\n",
       "      <td>135.0</td>\n",
       "      <td>2.0</td>\n",
       "      <td>11.0</td>\n",
       "      <td>...</td>\n",
       "      <td>00:00</td>\n",
       "      <td>7.0</td>\n",
       "      <td>-3.0</td>\n",
       "      <td>28.0</td>\n",
       "      <td>1287.0</td>\n",
       "      <td>14:10</td>\n",
       "      <td>12:13</td>\n",
       "      <td>00:00</td>\n",
       "      <td>01:57</td>\n",
       "      <td>8474034</td>\n",
       "    </tr>\n",
       "    <tr>\n",
       "      <th>0</th>\n",
       "      <td>20192020</td>\n",
       "      <td>794:29</td>\n",
       "      <td>14.0</td>\n",
       "      <td>9.0</td>\n",
       "      <td>71.0</td>\n",
       "      <td>80.0</td>\n",
       "      <td>64.0</td>\n",
       "      <td>104.0</td>\n",
       "      <td>1.0</td>\n",
       "      <td>3.0</td>\n",
       "      <td>...</td>\n",
       "      <td>01:23</td>\n",
       "      <td>13.0</td>\n",
       "      <td>4.0</td>\n",
       "      <td>23.0</td>\n",
       "      <td>1038.0</td>\n",
       "      <td>12:24</td>\n",
       "      <td>10:52</td>\n",
       "      <td>00:01</td>\n",
       "      <td>01:31</td>\n",
       "      <td>8474034</td>\n",
       "    </tr>\n",
       "    <tr>\n",
       "      <th>0</th>\n",
       "      <td>20202021</td>\n",
       "      <td>637:36</td>\n",
       "      <td>14.0</td>\n",
       "      <td>4.0</td>\n",
       "      <td>60.0</td>\n",
       "      <td>46.0</td>\n",
       "      <td>55.0</td>\n",
       "      <td>75.0</td>\n",
       "      <td>2.0</td>\n",
       "      <td>4.0</td>\n",
       "      <td>...</td>\n",
       "      <td>00:00</td>\n",
       "      <td>6.0</td>\n",
       "      <td>2.0</td>\n",
       "      <td>18.0</td>\n",
       "      <td>838.0</td>\n",
       "      <td>11:35</td>\n",
       "      <td>09:59</td>\n",
       "      <td>00:00</td>\n",
       "      <td>01:35</td>\n",
       "      <td>8474034</td>\n",
       "    </tr>\n",
       "    <tr>\n",
       "      <th>0</th>\n",
       "      <td>20212022</td>\n",
       "      <td>1004:05</td>\n",
       "      <td>16.0</td>\n",
       "      <td>11.0</td>\n",
       "      <td>134.0</td>\n",
       "      <td>102.0</td>\n",
       "      <td>81.0</td>\n",
       "      <td>160.0</td>\n",
       "      <td>3.0</td>\n",
       "      <td>6.0</td>\n",
       "      <td>...</td>\n",
       "      <td>00:15</td>\n",
       "      <td>11.0</td>\n",
       "      <td>20.0</td>\n",
       "      <td>27.0</td>\n",
       "      <td>1293.0</td>\n",
       "      <td>12:23</td>\n",
       "      <td>11:05</td>\n",
       "      <td>00:00</td>\n",
       "      <td>01:17</td>\n",
       "      <td>8474034</td>\n",
       "    </tr>\n",
       "  </tbody>\n",
       "</table>\n",
       "<p>101 rows × 29 columns</p>\n",
       "</div>"
      ],
      "text/plain": [
       "      season stat.timeOnIce  stat.assists  stat.goals  stat.pim  stat.shots  \\\n",
       "0   20122013         721:51          12.0        12.0      28.0        96.0   \n",
       "0   20132014         904:05          18.0         9.0      12.0       111.0   \n",
       "0   20122013         827:13          19.0         8.0      18.0        55.0   \n",
       "0   20132014         978:09          18.0        11.0      46.0        81.0   \n",
       "0   20122013         920:53          10.0         7.0      52.0        80.0   \n",
       "..       ...            ...           ...         ...       ...         ...   \n",
       "0   20172018        1223:40          26.0        17.0      73.0       141.0   \n",
       "0   20182019        1048:33          18.0        10.0      64.0       118.0   \n",
       "0   20192020         794:29          14.0         9.0      71.0        80.0   \n",
       "0   20202021         637:36          14.0         4.0      60.0        46.0   \n",
       "0   20212022        1004:05          16.0        11.0     134.0       102.0   \n",
       "\n",
       "    stat.games  stat.hits  stat.powerPlayGoals  stat.powerPlayPoints  ...  \\\n",
       "0         46.0        8.0                  3.0                   7.0  ...   \n",
       "0         64.0       15.0                  4.0                   8.0  ...   \n",
       "0         47.0       31.0                  4.0                   8.0  ...   \n",
       "0         65.0       29.0                  0.0                   0.0  ...   \n",
       "0         44.0       34.0                  2.0                   5.0  ...   \n",
       "..         ...        ...                  ...                   ...  ...   \n",
       "0         74.0      150.0                  1.0                   7.0  ...   \n",
       "0         74.0      135.0                  2.0                  11.0  ...   \n",
       "0         64.0      104.0                  1.0                   3.0  ...   \n",
       "0         55.0       75.0                  2.0                   4.0  ...   \n",
       "0         81.0      160.0                  3.0                   6.0  ...   \n",
       "\n",
       "   stat.shortHandedTimeOnIce stat.blocked stat.plusMinus  stat.points  \\\n",
       "0                      00:53         10.0          -10.0         24.0   \n",
       "0                      01:08          8.0            8.0         27.0   \n",
       "0                      98:28         15.0            4.0         27.0   \n",
       "0                     102:06         30.0            3.0         29.0   \n",
       "0                     109:45         58.0           19.0         17.0   \n",
       "..                       ...          ...            ...          ...   \n",
       "0                      00:35         14.0            1.0         43.0   \n",
       "0                      00:00          7.0           -3.0         28.0   \n",
       "0                      01:23         13.0            4.0         23.0   \n",
       "0                      00:00          6.0            2.0         18.0   \n",
       "0                      00:15         11.0           20.0         27.0   \n",
       "\n",
       "    stat.shifts  stat.timeOnIcePerGame  stat.evenTimeOnIcePerGame  \\\n",
       "0         871.0                  15:41                      13:29   \n",
       "0        1109.0                  14:07                      11:42   \n",
       "0        1121.0                  17:36                      13:44   \n",
       "0        1445.0                  15:02                      12:48   \n",
       "0        1096.0                  20:55                      16:36   \n",
       "..          ...                    ...                        ...   \n",
       "0        1477.0                  16:32                      14:30   \n",
       "0        1287.0                  14:10                      12:13   \n",
       "0        1038.0                  12:24                      10:52   \n",
       "0         838.0                  11:35                      09:59   \n",
       "0        1293.0                  12:23                      11:05   \n",
       "\n",
       "    stat.shortHandedTimeOnIcePerGame  stat.powerPlayTimeOnIcePerGame person.id  \n",
       "0                              00:01                           02:10   8457981  \n",
       "0                              00:01                           02:24   8457981  \n",
       "0                              02:05                           01:45   8459442  \n",
       "0                              01:34                           00:39   8459442  \n",
       "0                              02:29                           01:49   8460561  \n",
       "..                               ...                             ...       ...  \n",
       "0                              00:00                           02:01   8474034  \n",
       "0                              00:00                           01:57   8474034  \n",
       "0                              00:01                           01:31   8474034  \n",
       "0                              00:00                           01:35   8474034  \n",
       "0                              00:00                           01:17   8474034  \n",
       "\n",
       "[101 rows x 29 columns]"
      ]
     },
     "execution_count": 91,
     "metadata": {},
     "output_type": "execute_result"
    }
   ],
   "source": [
    "df_plyr_stats"
   ]
  },
  {
   "cell_type": "code",
   "execution_count": 92,
   "id": "a2bf0bc9-5030-40b0-b105-c4bd21f27b8b",
   "metadata": {
    "tags": []
   },
   "outputs": [
    {
     "data": {
      "text/plain": [
       "Index(['season', 'stat.timeOnIce', 'stat.assists', 'stat.goals', 'stat.pim',\n",
       "       'stat.shots', 'stat.games', 'stat.hits', 'stat.powerPlayGoals',\n",
       "       'stat.powerPlayPoints', 'stat.powerPlayTimeOnIce', 'stat.evenTimeOnIce',\n",
       "       'stat.penaltyMinutes', 'stat.faceOffPct', 'stat.shotPct',\n",
       "       'stat.gameWinningGoals', 'stat.overTimeGoals', 'stat.shortHandedGoals',\n",
       "       'stat.shortHandedPoints', 'stat.shortHandedTimeOnIce', 'stat.blocked',\n",
       "       'stat.plusMinus', 'stat.points', 'stat.shifts', 'stat.timeOnIcePerGame',\n",
       "       'stat.evenTimeOnIcePerGame', 'stat.shortHandedTimeOnIcePerGame',\n",
       "       'stat.powerPlayTimeOnIcePerGame', 'person.id'],\n",
       "      dtype='object')"
      ]
     },
     "execution_count": 92,
     "metadata": {},
     "output_type": "execute_result"
    }
   ],
   "source": [
    "df_plyr_stats.columns"
   ]
  },
  {
   "cell_type": "code",
   "execution_count": 93,
   "id": "2db84bc7-1944-4d8e-b6d9-f39539984ad6",
   "metadata": {
    "tags": []
   },
   "outputs": [
    {
     "data": {
      "text/plain": [
       "Index(['index', 'id', 'fullName', 'link', 'firstName', 'lastName',\n",
       "       'primaryNumber', 'birthDate', 'currentAge', 'birthCity',\n",
       "       'birthStateProvince', 'birthCountry', 'nationality', 'height', 'weight',\n",
       "       'active', 'alternateCaptain', 'captain', 'rookie', 'shootsCatches',\n",
       "       'rosterStatus', 'currentTeam.id', 'currentTeam.name',\n",
       "       'currentTeam.link', 'primaryPosition.code', 'primaryPosition.name',\n",
       "       'primaryPosition.type', 'primaryPosition.abbreviation'],\n",
       "      dtype='object')"
      ]
     },
     "execution_count": 93,
     "metadata": {},
     "output_type": "execute_result"
    }
   ],
   "source": [
    "# combine with player attributes for comparison\n",
    "df_people.columns"
   ]
  },
  {
   "cell_type": "code",
   "execution_count": 95,
   "id": "31e9cff2-038c-4aa6-beda-a838a74fff4c",
   "metadata": {
    "tags": []
   },
   "outputs": [
    {
     "data": {
      "text/html": [
       "<div>\n",
       "<style scoped>\n",
       "    .dataframe tbody tr th:only-of-type {\n",
       "        vertical-align: middle;\n",
       "    }\n",
       "\n",
       "    .dataframe tbody tr th {\n",
       "        vertical-align: top;\n",
       "    }\n",
       "\n",
       "    .dataframe thead th {\n",
       "        text-align: right;\n",
       "    }\n",
       "</style>\n",
       "<table border=\"1\" class=\"dataframe\">\n",
       "  <thead>\n",
       "    <tr style=\"text-align: right;\">\n",
       "      <th></th>\n",
       "      <th>season</th>\n",
       "      <th>stat.timeOnIce</th>\n",
       "      <th>stat.assists</th>\n",
       "      <th>stat.goals</th>\n",
       "      <th>stat.pim</th>\n",
       "      <th>stat.shots</th>\n",
       "      <th>stat.games</th>\n",
       "      <th>stat.hits</th>\n",
       "      <th>stat.powerPlayGoals</th>\n",
       "      <th>stat.powerPlayPoints</th>\n",
       "      <th>...</th>\n",
       "      <th>rookie</th>\n",
       "      <th>shootsCatches</th>\n",
       "      <th>rosterStatus</th>\n",
       "      <th>currentTeam.id</th>\n",
       "      <th>currentTeam.name</th>\n",
       "      <th>currentTeam.link</th>\n",
       "      <th>primaryPosition.code</th>\n",
       "      <th>primaryPosition.name</th>\n",
       "      <th>primaryPosition.type</th>\n",
       "      <th>primaryPosition.abbreviation</th>\n",
       "    </tr>\n",
       "  </thead>\n",
       "  <tbody>\n",
       "    <tr>\n",
       "      <th>0</th>\n",
       "      <td>20122013</td>\n",
       "      <td>721:51</td>\n",
       "      <td>12.0</td>\n",
       "      <td>12.0</td>\n",
       "      <td>28.0</td>\n",
       "      <td>96.0</td>\n",
       "      <td>46.0</td>\n",
       "      <td>8.0</td>\n",
       "      <td>3.0</td>\n",
       "      <td>7.0</td>\n",
       "      <td>...</td>\n",
       "      <td>NaN</td>\n",
       "      <td>NaN</td>\n",
       "      <td>NaN</td>\n",
       "      <td>NaN</td>\n",
       "      <td>NaN</td>\n",
       "      <td>NaN</td>\n",
       "      <td>NaN</td>\n",
       "      <td>NaN</td>\n",
       "      <td>NaN</td>\n",
       "      <td>NaN</td>\n",
       "    </tr>\n",
       "    <tr>\n",
       "      <th>1</th>\n",
       "      <td>20132014</td>\n",
       "      <td>904:05</td>\n",
       "      <td>18.0</td>\n",
       "      <td>9.0</td>\n",
       "      <td>12.0</td>\n",
       "      <td>111.0</td>\n",
       "      <td>64.0</td>\n",
       "      <td>15.0</td>\n",
       "      <td>4.0</td>\n",
       "      <td>8.0</td>\n",
       "      <td>...</td>\n",
       "      <td>NaN</td>\n",
       "      <td>NaN</td>\n",
       "      <td>NaN</td>\n",
       "      <td>NaN</td>\n",
       "      <td>NaN</td>\n",
       "      <td>NaN</td>\n",
       "      <td>NaN</td>\n",
       "      <td>NaN</td>\n",
       "      <td>NaN</td>\n",
       "      <td>NaN</td>\n",
       "    </tr>\n",
       "    <tr>\n",
       "      <th>2</th>\n",
       "      <td>20122013</td>\n",
       "      <td>827:13</td>\n",
       "      <td>19.0</td>\n",
       "      <td>8.0</td>\n",
       "      <td>18.0</td>\n",
       "      <td>55.0</td>\n",
       "      <td>47.0</td>\n",
       "      <td>31.0</td>\n",
       "      <td>4.0</td>\n",
       "      <td>8.0</td>\n",
       "      <td>...</td>\n",
       "      <td>NaN</td>\n",
       "      <td>NaN</td>\n",
       "      <td>NaN</td>\n",
       "      <td>NaN</td>\n",
       "      <td>NaN</td>\n",
       "      <td>NaN</td>\n",
       "      <td>NaN</td>\n",
       "      <td>NaN</td>\n",
       "      <td>NaN</td>\n",
       "      <td>NaN</td>\n",
       "    </tr>\n",
       "    <tr>\n",
       "      <th>3</th>\n",
       "      <td>20132014</td>\n",
       "      <td>978:09</td>\n",
       "      <td>18.0</td>\n",
       "      <td>11.0</td>\n",
       "      <td>46.0</td>\n",
       "      <td>81.0</td>\n",
       "      <td>65.0</td>\n",
       "      <td>29.0</td>\n",
       "      <td>0.0</td>\n",
       "      <td>0.0</td>\n",
       "      <td>...</td>\n",
       "      <td>NaN</td>\n",
       "      <td>NaN</td>\n",
       "      <td>NaN</td>\n",
       "      <td>NaN</td>\n",
       "      <td>NaN</td>\n",
       "      <td>NaN</td>\n",
       "      <td>NaN</td>\n",
       "      <td>NaN</td>\n",
       "      <td>NaN</td>\n",
       "      <td>NaN</td>\n",
       "    </tr>\n",
       "    <tr>\n",
       "      <th>4</th>\n",
       "      <td>20122013</td>\n",
       "      <td>920:53</td>\n",
       "      <td>10.0</td>\n",
       "      <td>7.0</td>\n",
       "      <td>52.0</td>\n",
       "      <td>80.0</td>\n",
       "      <td>44.0</td>\n",
       "      <td>34.0</td>\n",
       "      <td>2.0</td>\n",
       "      <td>5.0</td>\n",
       "      <td>...</td>\n",
       "      <td>NaN</td>\n",
       "      <td>NaN</td>\n",
       "      <td>NaN</td>\n",
       "      <td>NaN</td>\n",
       "      <td>NaN</td>\n",
       "      <td>NaN</td>\n",
       "      <td>NaN</td>\n",
       "      <td>NaN</td>\n",
       "      <td>NaN</td>\n",
       "      <td>NaN</td>\n",
       "    </tr>\n",
       "    <tr>\n",
       "      <th>...</th>\n",
       "      <td>...</td>\n",
       "      <td>...</td>\n",
       "      <td>...</td>\n",
       "      <td>...</td>\n",
       "      <td>...</td>\n",
       "      <td>...</td>\n",
       "      <td>...</td>\n",
       "      <td>...</td>\n",
       "      <td>...</td>\n",
       "      <td>...</td>\n",
       "      <td>...</td>\n",
       "      <td>...</td>\n",
       "      <td>...</td>\n",
       "      <td>...</td>\n",
       "      <td>...</td>\n",
       "      <td>...</td>\n",
       "      <td>...</td>\n",
       "      <td>...</td>\n",
       "      <td>...</td>\n",
       "      <td>...</td>\n",
       "      <td>...</td>\n",
       "    </tr>\n",
       "    <tr>\n",
       "      <th>96</th>\n",
       "      <td>20172018</td>\n",
       "      <td>1223:40</td>\n",
       "      <td>26.0</td>\n",
       "      <td>17.0</td>\n",
       "      <td>73.0</td>\n",
       "      <td>141.0</td>\n",
       "      <td>74.0</td>\n",
       "      <td>150.0</td>\n",
       "      <td>1.0</td>\n",
       "      <td>7.0</td>\n",
       "      <td>...</td>\n",
       "      <td>0.0</td>\n",
       "      <td>L</td>\n",
       "      <td>Y</td>\n",
       "      <td>14.0</td>\n",
       "      <td>Tampa Bay Lightning</td>\n",
       "      <td>/api/v1/teams/14</td>\n",
       "      <td>L</td>\n",
       "      <td>Left Wing</td>\n",
       "      <td>Forward</td>\n",
       "      <td>LW</td>\n",
       "    </tr>\n",
       "    <tr>\n",
       "      <th>97</th>\n",
       "      <td>20182019</td>\n",
       "      <td>1048:33</td>\n",
       "      <td>18.0</td>\n",
       "      <td>10.0</td>\n",
       "      <td>64.0</td>\n",
       "      <td>118.0</td>\n",
       "      <td>74.0</td>\n",
       "      <td>135.0</td>\n",
       "      <td>2.0</td>\n",
       "      <td>11.0</td>\n",
       "      <td>...</td>\n",
       "      <td>0.0</td>\n",
       "      <td>L</td>\n",
       "      <td>Y</td>\n",
       "      <td>14.0</td>\n",
       "      <td>Tampa Bay Lightning</td>\n",
       "      <td>/api/v1/teams/14</td>\n",
       "      <td>L</td>\n",
       "      <td>Left Wing</td>\n",
       "      <td>Forward</td>\n",
       "      <td>LW</td>\n",
       "    </tr>\n",
       "    <tr>\n",
       "      <th>98</th>\n",
       "      <td>20192020</td>\n",
       "      <td>794:29</td>\n",
       "      <td>14.0</td>\n",
       "      <td>9.0</td>\n",
       "      <td>71.0</td>\n",
       "      <td>80.0</td>\n",
       "      <td>64.0</td>\n",
       "      <td>104.0</td>\n",
       "      <td>1.0</td>\n",
       "      <td>3.0</td>\n",
       "      <td>...</td>\n",
       "      <td>0.0</td>\n",
       "      <td>L</td>\n",
       "      <td>Y</td>\n",
       "      <td>14.0</td>\n",
       "      <td>Tampa Bay Lightning</td>\n",
       "      <td>/api/v1/teams/14</td>\n",
       "      <td>L</td>\n",
       "      <td>Left Wing</td>\n",
       "      <td>Forward</td>\n",
       "      <td>LW</td>\n",
       "    </tr>\n",
       "    <tr>\n",
       "      <th>99</th>\n",
       "      <td>20202021</td>\n",
       "      <td>637:36</td>\n",
       "      <td>14.0</td>\n",
       "      <td>4.0</td>\n",
       "      <td>60.0</td>\n",
       "      <td>46.0</td>\n",
       "      <td>55.0</td>\n",
       "      <td>75.0</td>\n",
       "      <td>2.0</td>\n",
       "      <td>4.0</td>\n",
       "      <td>...</td>\n",
       "      <td>0.0</td>\n",
       "      <td>L</td>\n",
       "      <td>Y</td>\n",
       "      <td>14.0</td>\n",
       "      <td>Tampa Bay Lightning</td>\n",
       "      <td>/api/v1/teams/14</td>\n",
       "      <td>L</td>\n",
       "      <td>Left Wing</td>\n",
       "      <td>Forward</td>\n",
       "      <td>LW</td>\n",
       "    </tr>\n",
       "    <tr>\n",
       "      <th>100</th>\n",
       "      <td>20212022</td>\n",
       "      <td>1004:05</td>\n",
       "      <td>16.0</td>\n",
       "      <td>11.0</td>\n",
       "      <td>134.0</td>\n",
       "      <td>102.0</td>\n",
       "      <td>81.0</td>\n",
       "      <td>160.0</td>\n",
       "      <td>3.0</td>\n",
       "      <td>6.0</td>\n",
       "      <td>...</td>\n",
       "      <td>0.0</td>\n",
       "      <td>L</td>\n",
       "      <td>Y</td>\n",
       "      <td>14.0</td>\n",
       "      <td>Tampa Bay Lightning</td>\n",
       "      <td>/api/v1/teams/14</td>\n",
       "      <td>L</td>\n",
       "      <td>Left Wing</td>\n",
       "      <td>Forward</td>\n",
       "      <td>LW</td>\n",
       "    </tr>\n",
       "  </tbody>\n",
       "</table>\n",
       "<p>101 rows × 57 columns</p>\n",
       "</div>"
      ],
      "text/plain": [
       "       season stat.timeOnIce  stat.assists  stat.goals  stat.pim  stat.shots  \\\n",
       "0    20122013         721:51          12.0        12.0      28.0        96.0   \n",
       "1    20132014         904:05          18.0         9.0      12.0       111.0   \n",
       "2    20122013         827:13          19.0         8.0      18.0        55.0   \n",
       "3    20132014         978:09          18.0        11.0      46.0        81.0   \n",
       "4    20122013         920:53          10.0         7.0      52.0        80.0   \n",
       "..        ...            ...           ...         ...       ...         ...   \n",
       "96   20172018        1223:40          26.0        17.0      73.0       141.0   \n",
       "97   20182019        1048:33          18.0        10.0      64.0       118.0   \n",
       "98   20192020         794:29          14.0         9.0      71.0        80.0   \n",
       "99   20202021         637:36          14.0         4.0      60.0        46.0   \n",
       "100  20212022        1004:05          16.0        11.0     134.0       102.0   \n",
       "\n",
       "     stat.games  stat.hits  stat.powerPlayGoals  stat.powerPlayPoints  ...  \\\n",
       "0          46.0        8.0                  3.0                   7.0  ...   \n",
       "1          64.0       15.0                  4.0                   8.0  ...   \n",
       "2          47.0       31.0                  4.0                   8.0  ...   \n",
       "3          65.0       29.0                  0.0                   0.0  ...   \n",
       "4          44.0       34.0                  2.0                   5.0  ...   \n",
       "..          ...        ...                  ...                   ...  ...   \n",
       "96         74.0      150.0                  1.0                   7.0  ...   \n",
       "97         74.0      135.0                  2.0                  11.0  ...   \n",
       "98         64.0      104.0                  1.0                   3.0  ...   \n",
       "99         55.0       75.0                  2.0                   4.0  ...   \n",
       "100        81.0      160.0                  3.0                   6.0  ...   \n",
       "\n",
       "    rookie shootsCatches rosterStatus  currentTeam.id     currentTeam.name  \\\n",
       "0      NaN           NaN          NaN             NaN                  NaN   \n",
       "1      NaN           NaN          NaN             NaN                  NaN   \n",
       "2      NaN           NaN          NaN             NaN                  NaN   \n",
       "3      NaN           NaN          NaN             NaN                  NaN   \n",
       "4      NaN           NaN          NaN             NaN                  NaN   \n",
       "..     ...           ...          ...             ...                  ...   \n",
       "96     0.0             L            Y            14.0  Tampa Bay Lightning   \n",
       "97     0.0             L            Y            14.0  Tampa Bay Lightning   \n",
       "98     0.0             L            Y            14.0  Tampa Bay Lightning   \n",
       "99     0.0             L            Y            14.0  Tampa Bay Lightning   \n",
       "100    0.0             L            Y            14.0  Tampa Bay Lightning   \n",
       "\n",
       "     currentTeam.link  primaryPosition.code  primaryPosition.name  \\\n",
       "0                 NaN                   NaN                   NaN   \n",
       "1                 NaN                   NaN                   NaN   \n",
       "2                 NaN                   NaN                   NaN   \n",
       "3                 NaN                   NaN                   NaN   \n",
       "4                 NaN                   NaN                   NaN   \n",
       "..                ...                   ...                   ...   \n",
       "96   /api/v1/teams/14                     L             Left Wing   \n",
       "97   /api/v1/teams/14                     L             Left Wing   \n",
       "98   /api/v1/teams/14                     L             Left Wing   \n",
       "99   /api/v1/teams/14                     L             Left Wing   \n",
       "100  /api/v1/teams/14                     L             Left Wing   \n",
       "\n",
       "     primaryPosition.type primaryPosition.abbreviation  \n",
       "0                     NaN                          NaN  \n",
       "1                     NaN                          NaN  \n",
       "2                     NaN                          NaN  \n",
       "3                     NaN                          NaN  \n",
       "4                     NaN                          NaN  \n",
       "..                    ...                          ...  \n",
       "96                Forward                           LW  \n",
       "97                Forward                           LW  \n",
       "98                Forward                           LW  \n",
       "99                Forward                           LW  \n",
       "100               Forward                           LW  \n",
       "\n",
       "[101 rows x 57 columns]"
      ]
     },
     "execution_count": 95,
     "metadata": {},
     "output_type": "execute_result"
    }
   ],
   "source": [
    "df_stats_attr = df_plyr_stats.merge(df_people, left_on='person.id', right_on='id', how='left')\n",
    "df_stats_attr"
   ]
  },
  {
   "cell_type": "code",
   "execution_count": 102,
   "id": "fe8c028a-f4eb-4390-9488-cf68f2884ea8",
   "metadata": {
    "tags": []
   },
   "outputs": [
    {
     "data": {
      "application/vnd.plotly.v1+json": {
       "config": {
        "plotlyServerURL": "https://plot.ly"
       },
       "data": [
        {
         "hovertemplate": "stat.points=%{x}<br>weight=%{y}<extra></extra>",
         "legendgroup": "",
         "marker": {
          "color": "#636efa",
          "symbol": "circle"
         },
         "mode": "markers",
         "name": "",
         "orientation": "v",
         "showlegend": false,
         "type": "scatter",
         "x": [
          24,
          27,
          27,
          29,
          17,
          4,
          9,
          6,
          6,
          10,
          2,
          24,
          17,
          23,
          34,
          18,
          17,
          8,
          7,
          0,
          49,
          87,
          70,
          63,
          73,
          61,
          48,
          42,
          17,
          37,
          36,
          82,
          55,
          62,
          53,
          49,
          10,
          21,
          21,
          40,
          19,
          30,
          34,
          19,
          25,
          23,
          2,
          30,
          48,
          54,
          56,
          25,
          33,
          42,
          8,
          14,
          23,
          42,
          29,
          32,
          35,
          35,
          17,
          14,
          11,
          16,
          0,
          13,
          24,
          32,
          37,
          8,
          0,
          1,
          10,
          18,
          14,
          10,
          7,
          8,
          9,
          13,
          49,
          39,
          29,
          37,
          25,
          35,
          35,
          26,
          26,
          3,
          29,
          34,
          27,
          42,
          43,
          28,
          23,
          18,
          27
         ],
         "xaxis": "x",
         "y": [
          null,
          null,
          null,
          null,
          null,
          null,
          null,
          null,
          null,
          null,
          null,
          null,
          null,
          null,
          null,
          null,
          null,
          null,
          null,
          null,
          null,
          null,
          null,
          null,
          null,
          null,
          null,
          null,
          null,
          null,
          208,
          208,
          208,
          208,
          208,
          208,
          208,
          208,
          208,
          208,
          null,
          null,
          null,
          null,
          null,
          null,
          null,
          null,
          null,
          null,
          null,
          null,
          null,
          null,
          null,
          null,
          179,
          179,
          179,
          179,
          179,
          179,
          179,
          179,
          179,
          179,
          null,
          null,
          null,
          null,
          null,
          null,
          null,
          null,
          null,
          null,
          null,
          null,
          null,
          null,
          null,
          195,
          195,
          195,
          195,
          195,
          195,
          195,
          195,
          195,
          195,
          234,
          234,
          234,
          234,
          234,
          234,
          234,
          234,
          234,
          234
         ],
         "yaxis": "y"
        }
       ],
       "layout": {
        "autosize": true,
        "legend": {
         "tracegroupgap": 0
        },
        "margin": {
         "t": 60
        },
        "template": {
         "data": {
          "bar": [
           {
            "error_x": {
             "color": "#2a3f5f"
            },
            "error_y": {
             "color": "#2a3f5f"
            },
            "marker": {
             "line": {
              "color": "#E5ECF6",
              "width": 0.5
             },
             "pattern": {
              "fillmode": "overlay",
              "size": 10,
              "solidity": 0.2
             }
            },
            "type": "bar"
           }
          ],
          "barpolar": [
           {
            "marker": {
             "line": {
              "color": "#E5ECF6",
              "width": 0.5
             },
             "pattern": {
              "fillmode": "overlay",
              "size": 10,
              "solidity": 0.2
             }
            },
            "type": "barpolar"
           }
          ],
          "carpet": [
           {
            "aaxis": {
             "endlinecolor": "#2a3f5f",
             "gridcolor": "white",
             "linecolor": "white",
             "minorgridcolor": "white",
             "startlinecolor": "#2a3f5f"
            },
            "baxis": {
             "endlinecolor": "#2a3f5f",
             "gridcolor": "white",
             "linecolor": "white",
             "minorgridcolor": "white",
             "startlinecolor": "#2a3f5f"
            },
            "type": "carpet"
           }
          ],
          "choropleth": [
           {
            "colorbar": {
             "outlinewidth": 0,
             "ticks": ""
            },
            "type": "choropleth"
           }
          ],
          "contour": [
           {
            "colorbar": {
             "outlinewidth": 0,
             "ticks": ""
            },
            "colorscale": [
             [
              0,
              "#0d0887"
             ],
             [
              0.1111111111111111,
              "#46039f"
             ],
             [
              0.2222222222222222,
              "#7201a8"
             ],
             [
              0.3333333333333333,
              "#9c179e"
             ],
             [
              0.4444444444444444,
              "#bd3786"
             ],
             [
              0.5555555555555556,
              "#d8576b"
             ],
             [
              0.6666666666666666,
              "#ed7953"
             ],
             [
              0.7777777777777778,
              "#fb9f3a"
             ],
             [
              0.8888888888888888,
              "#fdca26"
             ],
             [
              1,
              "#f0f921"
             ]
            ],
            "type": "contour"
           }
          ],
          "contourcarpet": [
           {
            "colorbar": {
             "outlinewidth": 0,
             "ticks": ""
            },
            "type": "contourcarpet"
           }
          ],
          "heatmap": [
           {
            "colorbar": {
             "outlinewidth": 0,
             "ticks": ""
            },
            "colorscale": [
             [
              0,
              "#0d0887"
             ],
             [
              0.1111111111111111,
              "#46039f"
             ],
             [
              0.2222222222222222,
              "#7201a8"
             ],
             [
              0.3333333333333333,
              "#9c179e"
             ],
             [
              0.4444444444444444,
              "#bd3786"
             ],
             [
              0.5555555555555556,
              "#d8576b"
             ],
             [
              0.6666666666666666,
              "#ed7953"
             ],
             [
              0.7777777777777778,
              "#fb9f3a"
             ],
             [
              0.8888888888888888,
              "#fdca26"
             ],
             [
              1,
              "#f0f921"
             ]
            ],
            "type": "heatmap"
           }
          ],
          "heatmapgl": [
           {
            "colorbar": {
             "outlinewidth": 0,
             "ticks": ""
            },
            "colorscale": [
             [
              0,
              "#0d0887"
             ],
             [
              0.1111111111111111,
              "#46039f"
             ],
             [
              0.2222222222222222,
              "#7201a8"
             ],
             [
              0.3333333333333333,
              "#9c179e"
             ],
             [
              0.4444444444444444,
              "#bd3786"
             ],
             [
              0.5555555555555556,
              "#d8576b"
             ],
             [
              0.6666666666666666,
              "#ed7953"
             ],
             [
              0.7777777777777778,
              "#fb9f3a"
             ],
             [
              0.8888888888888888,
              "#fdca26"
             ],
             [
              1,
              "#f0f921"
             ]
            ],
            "type": "heatmapgl"
           }
          ],
          "histogram": [
           {
            "marker": {
             "pattern": {
              "fillmode": "overlay",
              "size": 10,
              "solidity": 0.2
             }
            },
            "type": "histogram"
           }
          ],
          "histogram2d": [
           {
            "colorbar": {
             "outlinewidth": 0,
             "ticks": ""
            },
            "colorscale": [
             [
              0,
              "#0d0887"
             ],
             [
              0.1111111111111111,
              "#46039f"
             ],
             [
              0.2222222222222222,
              "#7201a8"
             ],
             [
              0.3333333333333333,
              "#9c179e"
             ],
             [
              0.4444444444444444,
              "#bd3786"
             ],
             [
              0.5555555555555556,
              "#d8576b"
             ],
             [
              0.6666666666666666,
              "#ed7953"
             ],
             [
              0.7777777777777778,
              "#fb9f3a"
             ],
             [
              0.8888888888888888,
              "#fdca26"
             ],
             [
              1,
              "#f0f921"
             ]
            ],
            "type": "histogram2d"
           }
          ],
          "histogram2dcontour": [
           {
            "colorbar": {
             "outlinewidth": 0,
             "ticks": ""
            },
            "colorscale": [
             [
              0,
              "#0d0887"
             ],
             [
              0.1111111111111111,
              "#46039f"
             ],
             [
              0.2222222222222222,
              "#7201a8"
             ],
             [
              0.3333333333333333,
              "#9c179e"
             ],
             [
              0.4444444444444444,
              "#bd3786"
             ],
             [
              0.5555555555555556,
              "#d8576b"
             ],
             [
              0.6666666666666666,
              "#ed7953"
             ],
             [
              0.7777777777777778,
              "#fb9f3a"
             ],
             [
              0.8888888888888888,
              "#fdca26"
             ],
             [
              1,
              "#f0f921"
             ]
            ],
            "type": "histogram2dcontour"
           }
          ],
          "mesh3d": [
           {
            "colorbar": {
             "outlinewidth": 0,
             "ticks": ""
            },
            "type": "mesh3d"
           }
          ],
          "parcoords": [
           {
            "line": {
             "colorbar": {
              "outlinewidth": 0,
              "ticks": ""
             }
            },
            "type": "parcoords"
           }
          ],
          "pie": [
           {
            "automargin": true,
            "type": "pie"
           }
          ],
          "scatter": [
           {
            "fillpattern": {
             "fillmode": "overlay",
             "size": 10,
             "solidity": 0.2
            },
            "type": "scatter"
           }
          ],
          "scatter3d": [
           {
            "line": {
             "colorbar": {
              "outlinewidth": 0,
              "ticks": ""
             }
            },
            "marker": {
             "colorbar": {
              "outlinewidth": 0,
              "ticks": ""
             }
            },
            "type": "scatter3d"
           }
          ],
          "scattercarpet": [
           {
            "marker": {
             "colorbar": {
              "outlinewidth": 0,
              "ticks": ""
             }
            },
            "type": "scattercarpet"
           }
          ],
          "scattergeo": [
           {
            "marker": {
             "colorbar": {
              "outlinewidth": 0,
              "ticks": ""
             }
            },
            "type": "scattergeo"
           }
          ],
          "scattergl": [
           {
            "marker": {
             "colorbar": {
              "outlinewidth": 0,
              "ticks": ""
             }
            },
            "type": "scattergl"
           }
          ],
          "scattermapbox": [
           {
            "marker": {
             "colorbar": {
              "outlinewidth": 0,
              "ticks": ""
             }
            },
            "type": "scattermapbox"
           }
          ],
          "scatterpolar": [
           {
            "marker": {
             "colorbar": {
              "outlinewidth": 0,
              "ticks": ""
             }
            },
            "type": "scatterpolar"
           }
          ],
          "scatterpolargl": [
           {
            "marker": {
             "colorbar": {
              "outlinewidth": 0,
              "ticks": ""
             }
            },
            "type": "scatterpolargl"
           }
          ],
          "scatterternary": [
           {
            "marker": {
             "colorbar": {
              "outlinewidth": 0,
              "ticks": ""
             }
            },
            "type": "scatterternary"
           }
          ],
          "surface": [
           {
            "colorbar": {
             "outlinewidth": 0,
             "ticks": ""
            },
            "colorscale": [
             [
              0,
              "#0d0887"
             ],
             [
              0.1111111111111111,
              "#46039f"
             ],
             [
              0.2222222222222222,
              "#7201a8"
             ],
             [
              0.3333333333333333,
              "#9c179e"
             ],
             [
              0.4444444444444444,
              "#bd3786"
             ],
             [
              0.5555555555555556,
              "#d8576b"
             ],
             [
              0.6666666666666666,
              "#ed7953"
             ],
             [
              0.7777777777777778,
              "#fb9f3a"
             ],
             [
              0.8888888888888888,
              "#fdca26"
             ],
             [
              1,
              "#f0f921"
             ]
            ],
            "type": "surface"
           }
          ],
          "table": [
           {
            "cells": {
             "fill": {
              "color": "#EBF0F8"
             },
             "line": {
              "color": "white"
             }
            },
            "header": {
             "fill": {
              "color": "#C8D4E3"
             },
             "line": {
              "color": "white"
             }
            },
            "type": "table"
           }
          ]
         },
         "layout": {
          "annotationdefaults": {
           "arrowcolor": "#2a3f5f",
           "arrowhead": 0,
           "arrowwidth": 1
          },
          "autotypenumbers": "strict",
          "coloraxis": {
           "colorbar": {
            "outlinewidth": 0,
            "ticks": ""
           }
          },
          "colorscale": {
           "diverging": [
            [
             0,
             "#8e0152"
            ],
            [
             0.1,
             "#c51b7d"
            ],
            [
             0.2,
             "#de77ae"
            ],
            [
             0.3,
             "#f1b6da"
            ],
            [
             0.4,
             "#fde0ef"
            ],
            [
             0.5,
             "#f7f7f7"
            ],
            [
             0.6,
             "#e6f5d0"
            ],
            [
             0.7,
             "#b8e186"
            ],
            [
             0.8,
             "#7fbc41"
            ],
            [
             0.9,
             "#4d9221"
            ],
            [
             1,
             "#276419"
            ]
           ],
           "sequential": [
            [
             0,
             "#0d0887"
            ],
            [
             0.1111111111111111,
             "#46039f"
            ],
            [
             0.2222222222222222,
             "#7201a8"
            ],
            [
             0.3333333333333333,
             "#9c179e"
            ],
            [
             0.4444444444444444,
             "#bd3786"
            ],
            [
             0.5555555555555556,
             "#d8576b"
            ],
            [
             0.6666666666666666,
             "#ed7953"
            ],
            [
             0.7777777777777778,
             "#fb9f3a"
            ],
            [
             0.8888888888888888,
             "#fdca26"
            ],
            [
             1,
             "#f0f921"
            ]
           ],
           "sequentialminus": [
            [
             0,
             "#0d0887"
            ],
            [
             0.1111111111111111,
             "#46039f"
            ],
            [
             0.2222222222222222,
             "#7201a8"
            ],
            [
             0.3333333333333333,
             "#9c179e"
            ],
            [
             0.4444444444444444,
             "#bd3786"
            ],
            [
             0.5555555555555556,
             "#d8576b"
            ],
            [
             0.6666666666666666,
             "#ed7953"
            ],
            [
             0.7777777777777778,
             "#fb9f3a"
            ],
            [
             0.8888888888888888,
             "#fdca26"
            ],
            [
             1,
             "#f0f921"
            ]
           ]
          },
          "colorway": [
           "#636efa",
           "#EF553B",
           "#00cc96",
           "#ab63fa",
           "#FFA15A",
           "#19d3f3",
           "#FF6692",
           "#B6E880",
           "#FF97FF",
           "#FECB52"
          ],
          "font": {
           "color": "#2a3f5f"
          },
          "geo": {
           "bgcolor": "white",
           "lakecolor": "white",
           "landcolor": "#E5ECF6",
           "showlakes": true,
           "showland": true,
           "subunitcolor": "white"
          },
          "hoverlabel": {
           "align": "left"
          },
          "hovermode": "closest",
          "mapbox": {
           "style": "light"
          },
          "paper_bgcolor": "white",
          "plot_bgcolor": "#E5ECF6",
          "polar": {
           "angularaxis": {
            "gridcolor": "white",
            "linecolor": "white",
            "ticks": ""
           },
           "bgcolor": "#E5ECF6",
           "radialaxis": {
            "gridcolor": "white",
            "linecolor": "white",
            "ticks": ""
           }
          },
          "scene": {
           "xaxis": {
            "backgroundcolor": "#E5ECF6",
            "gridcolor": "white",
            "gridwidth": 2,
            "linecolor": "white",
            "showbackground": true,
            "ticks": "",
            "zerolinecolor": "white"
           },
           "yaxis": {
            "backgroundcolor": "#E5ECF6",
            "gridcolor": "white",
            "gridwidth": 2,
            "linecolor": "white",
            "showbackground": true,
            "ticks": "",
            "zerolinecolor": "white"
           },
           "zaxis": {
            "backgroundcolor": "#E5ECF6",
            "gridcolor": "white",
            "gridwidth": 2,
            "linecolor": "white",
            "showbackground": true,
            "ticks": "",
            "zerolinecolor": "white"
           }
          },
          "shapedefaults": {
           "line": {
            "color": "#2a3f5f"
           }
          },
          "ternary": {
           "aaxis": {
            "gridcolor": "white",
            "linecolor": "white",
            "ticks": ""
           },
           "baxis": {
            "gridcolor": "white",
            "linecolor": "white",
            "ticks": ""
           },
           "bgcolor": "#E5ECF6",
           "caxis": {
            "gridcolor": "white",
            "linecolor": "white",
            "ticks": ""
           }
          },
          "title": {
           "x": 0.05
          },
          "xaxis": {
           "automargin": true,
           "gridcolor": "white",
           "linecolor": "white",
           "ticks": "",
           "title": {
            "standoff": 15
           },
           "zerolinecolor": "white",
           "zerolinewidth": 2
          },
          "yaxis": {
           "automargin": true,
           "gridcolor": "white",
           "linecolor": "white",
           "ticks": "",
           "title": {
            "standoff": 15
           },
           "zerolinecolor": "white",
           "zerolinewidth": 2
          }
         }
        },
        "xaxis": {
         "anchor": "y",
         "autorange": true,
         "domain": [
          0,
          1
         ],
         "range": [
          -5.271293947082277,
          92.27129394708227
         ],
         "title": {
          "text": "stat.points"
         },
         "type": "linear"
        },
        "yaxis": {
         "anchor": "x",
         "autorange": true,
         "domain": [
          0,
          1
         ],
         "range": [
          174.74146981627297,
          238.25853018372703
         ],
         "title": {
          "text": "weight"
         },
         "type": "linear"
        }
       }
      },
      "image/png": "[encoded data removed]",
      "text/html": [
       "<div>                            <div id=\"55470f68-091d-43de-85ae-cdca41dc9fbe\" class=\"plotly-graph-div\" style=\"height:525px; width:100%;\"></div>            <script type=\"text/javascript\">                require([\"plotly\"], function(Plotly) {                    window.PLOTLYENV=window.PLOTLYENV || {};                                    if (document.getElementById(\"55470f68-091d-43de-85ae-cdca41dc9fbe\")) {                    Plotly.newPlot(                        \"55470f68-091d-43de-85ae-cdca41dc9fbe\",                        [{\"hovertemplate\":\"stat.points=%{x}<br>weight=%{y}<extra></extra>\",\"legendgroup\":\"\",\"marker\":{\"color\":\"#636efa\",\"symbol\":\"circle\"},\"mode\":\"markers\",\"name\":\"\",\"orientation\":\"v\",\"showlegend\":false,\"x\":[24.0,27.0,27.0,29.0,17.0,4.0,9.0,6.0,6.0,10.0,2.0,24.0,17.0,23.0,34.0,18.0,17.0,8.0,7.0,0.0,49.0,87.0,70.0,63.0,73.0,61.0,48.0,42.0,17.0,37.0,36.0,82.0,55.0,62.0,53.0,49.0,10.0,21.0,21.0,40.0,19.0,30.0,34.0,19.0,25.0,23.0,2.0,30.0,48.0,54.0,56.0,25.0,33.0,42.0,8.0,14.0,23.0,42.0,29.0,32.0,35.0,35.0,17.0,14.0,11.0,16.0,0.0,13.0,24.0,32.0,37.0,8.0,0.0,1.0,10.0,18.0,14.0,10.0,7.0,8.0,9.0,13.0,49.0,39.0,29.0,37.0,25.0,35.0,35.0,26.0,26.0,3.0,29.0,34.0,27.0,42.0,43.0,28.0,23.0,18.0,27.0],\"xaxis\":\"x\",\"y\":[null,null,null,null,null,null,null,null,null,null,null,null,null,null,null,null,null,null,null,null,null,null,null,null,null,null,null,null,null,null,208.0,208.0,208.0,208.0,208.0,208.0,208.0,208.0,208.0,208.0,null,null,null,null,null,null,null,null,null,null,null,null,null,null,null,null,179.0,179.0,179.0,179.0,179.0,179.0,179.0,179.0,179.0,179.0,null,null,null,null,null,null,null,null,null,null,null,null,null,null,null,195.0,195.0,195.0,195.0,195.0,195.0,195.0,195.0,195.0,195.0,234.0,234.0,234.0,234.0,234.0,234.0,234.0,234.0,234.0,234.0],\"yaxis\":\"y\",\"type\":\"scatter\"}],                        {\"template\":{\"data\":{\"histogram2dcontour\":[{\"type\":\"histogram2dcontour\",\"colorbar\":{\"outlinewidth\":0,\"ticks\":\"\"},\"colorscale\":[[0.0,\"#0d0887\"],[0.1111111111111111,\"#46039f\"],[0.2222222222222222,\"#7201a8\"],[0.3333333333333333,\"#9c179e\"],[0.4444444444444444,\"#bd3786\"],[0.5555555555555556,\"#d8576b\"],[0.6666666666666666,\"#ed7953\"],[0.7777777777777778,\"#fb9f3a\"],[0.8888888888888888,\"#fdca26\"],[1.0,\"#f0f921\"]]}],\"choropleth\":[{\"type\":\"choropleth\",\"colorbar\":{\"outlinewidth\":0,\"ticks\":\"\"}}],\"histogram2d\":[{\"type\":\"histogram2d\",\"colorbar\":{\"outlinewidth\":0,\"ticks\":\"\"},\"colorscale\":[[0.0,\"#0d0887\"],[0.1111111111111111,\"#46039f\"],[0.2222222222222222,\"#7201a8\"],[0.3333333333333333,\"#9c179e\"],[0.4444444444444444,\"#bd3786\"],[0.5555555555555556,\"#d8576b\"],[0.6666666666666666,\"#ed7953\"],[0.7777777777777778,\"#fb9f3a\"],[0.8888888888888888,\"#fdca26\"],[1.0,\"#f0f921\"]]}],\"heatmap\":[{\"type\":\"heatmap\",\"colorbar\":{\"outlinewidth\":0,\"ticks\":\"\"},\"colorscale\":[[0.0,\"#0d0887\"],[0.1111111111111111,\"#46039f\"],[0.2222222222222222,\"#7201a8\"],[0.3333333333333333,\"#9c179e\"],[0.4444444444444444,\"#bd3786\"],[0.5555555555555556,\"#d8576b\"],[0.6666666666666666,\"#ed7953\"],[0.7777777777777778,\"#fb9f3a\"],[0.8888888888888888,\"#fdca26\"],[1.0,\"#f0f921\"]]}],\"heatmapgl\":[{\"type\":\"heatmapgl\",\"colorbar\":{\"outlinewidth\":0,\"ticks\":\"\"},\"colorscale\":[[0.0,\"#0d0887\"],[0.1111111111111111,\"#46039f\"],[0.2222222222222222,\"#7201a8\"],[0.3333333333333333,\"#9c179e\"],[0.4444444444444444,\"#bd3786\"],[0.5555555555555556,\"#d8576b\"],[0.6666666666666666,\"#ed7953\"],[0.7777777777777778,\"#fb9f3a\"],[0.8888888888888888,\"#fdca26\"],[1.0,\"#f0f921\"]]}],\"contourcarpet\":[{\"type\":\"contourcarpet\",\"colorbar\":{\"outlinewidth\":0,\"ticks\":\"\"}}],\"contour\":[{\"type\":\"contour\",\"colorbar\":{\"outlinewidth\":0,\"ticks\":\"\"},\"colorscale\":[[0.0,\"#0d0887\"],[0.1111111111111111,\"#46039f\"],[0.2222222222222222,\"#7201a8\"],[0.3333333333333333,\"#9c179e\"],[0.4444444444444444,\"#bd3786\"],[0.5555555555555556,\"#d8576b\"],[0.6666666666666666,\"#ed7953\"],[0.7777777777777778,\"#fb9f3a\"],[0.8888888888888888,\"#fdca26\"],[1.0,\"#f0f921\"]]}],\"surface\":[{\"type\":\"surface\",\"colorbar\":{\"outlinewidth\":0,\"ticks\":\"\"},\"colorscale\":[[0.0,\"#0d0887\"],[0.1111111111111111,\"#46039f\"],[0.2222222222222222,\"#7201a8\"],[0.3333333333333333,\"#9c179e\"],[0.4444444444444444,\"#bd3786\"],[0.5555555555555556,\"#d8576b\"],[0.6666666666666666,\"#ed7953\"],[0.7777777777777778,\"#fb9f3a\"],[0.8888888888888888,\"#fdca26\"],[1.0,\"#f0f921\"]]}],\"mesh3d\":[{\"type\":\"mesh3d\",\"colorbar\":{\"outlinewidth\":0,\"ticks\":\"\"}}],\"scatter\":[{\"fillpattern\":{\"fillmode\":\"overlay\",\"size\":10,\"solidity\":0.2},\"type\":\"scatter\"}],\"parcoords\":[{\"type\":\"parcoords\",\"line\":{\"colorbar\":{\"outlinewidth\":0,\"ticks\":\"\"}}}],\"scatterpolargl\":[{\"type\":\"scatterpolargl\",\"marker\":{\"colorbar\":{\"outlinewidth\":0,\"ticks\":\"\"}}}],\"bar\":[{\"error_x\":{\"color\":\"#2a3f5f\"},\"error_y\":{\"color\":\"#2a3f5f\"},\"marker\":{\"line\":{\"color\":\"#E5ECF6\",\"width\":0.5},\"pattern\":{\"fillmode\":\"overlay\",\"size\":10,\"solidity\":0.2}},\"type\":\"bar\"}],\"scattergeo\":[{\"type\":\"scattergeo\",\"marker\":{\"colorbar\":{\"outlinewidth\":0,\"ticks\":\"\"}}}],\"scatterpolar\":[{\"type\":\"scatterpolar\",\"marker\":{\"colorbar\":{\"outlinewidth\":0,\"ticks\":\"\"}}}],\"histogram\":[{\"marker\":{\"pattern\":{\"fillmode\":\"overlay\",\"size\":10,\"solidity\":0.2}},\"type\":\"histogram\"}],\"scattergl\":[{\"type\":\"scattergl\",\"marker\":{\"colorbar\":{\"outlinewidth\":0,\"ticks\":\"\"}}}],\"scatter3d\":[{\"type\":\"scatter3d\",\"line\":{\"colorbar\":{\"outlinewidth\":0,\"ticks\":\"\"}},\"marker\":{\"colorbar\":{\"outlinewidth\":0,\"ticks\":\"\"}}}],\"scattermapbox\":[{\"type\":\"scattermapbox\",\"marker\":{\"colorbar\":{\"outlinewidth\":0,\"ticks\":\"\"}}}],\"scatterternary\":[{\"type\":\"scatterternary\",\"marker\":{\"colorbar\":{\"outlinewidth\":0,\"ticks\":\"\"}}}],\"scattercarpet\":[{\"type\":\"scattercarpet\",\"marker\":{\"colorbar\":{\"outlinewidth\":0,\"ticks\":\"\"}}}],\"carpet\":[{\"aaxis\":{\"endlinecolor\":\"#2a3f5f\",\"gridcolor\":\"white\",\"linecolor\":\"white\",\"minorgridcolor\":\"white\",\"startlinecolor\":\"#2a3f5f\"},\"baxis\":{\"endlinecolor\":\"#2a3f5f\",\"gridcolor\":\"white\",\"linecolor\":\"white\",\"minorgridcolor\":\"white\",\"startlinecolor\":\"#2a3f5f\"},\"type\":\"carpet\"}],\"table\":[{\"cells\":{\"fill\":{\"color\":\"#EBF0F8\"},\"line\":{\"color\":\"white\"}},\"header\":{\"fill\":{\"color\":\"#C8D4E3\"},\"line\":{\"color\":\"white\"}},\"type\":\"table\"}],\"barpolar\":[{\"marker\":{\"line\":{\"color\":\"#E5ECF6\",\"width\":0.5},\"pattern\":{\"fillmode\":\"overlay\",\"size\":10,\"solidity\":0.2}},\"type\":\"barpolar\"}],\"pie\":[{\"automargin\":true,\"type\":\"pie\"}]},\"layout\":{\"autotypenumbers\":\"strict\",\"colorway\":[\"#636efa\",\"#EF553B\",\"#00cc96\",\"#ab63fa\",\"#FFA15A\",\"#19d3f3\",\"#FF6692\",\"#B6E880\",\"#FF97FF\",\"#FECB52\"],\"font\":{\"color\":\"#2a3f5f\"},\"hovermode\":\"closest\",\"hoverlabel\":{\"align\":\"left\"},\"paper_bgcolor\":\"white\",\"plot_bgcolor\":\"#E5ECF6\",\"polar\":{\"bgcolor\":\"#E5ECF6\",\"angularaxis\":{\"gridcolor\":\"white\",\"linecolor\":\"white\",\"ticks\":\"\"},\"radialaxis\":{\"gridcolor\":\"white\",\"linecolor\":\"white\",\"ticks\":\"\"}},\"ternary\":{\"bgcolor\":\"#E5ECF6\",\"aaxis\":{\"gridcolor\":\"white\",\"linecolor\":\"white\",\"ticks\":\"\"},\"baxis\":{\"gridcolor\":\"white\",\"linecolor\":\"white\",\"ticks\":\"\"},\"caxis\":{\"gridcolor\":\"white\",\"linecolor\":\"white\",\"ticks\":\"\"}},\"coloraxis\":{\"colorbar\":{\"outlinewidth\":0,\"ticks\":\"\"}},\"colorscale\":{\"sequential\":[[0.0,\"#0d0887\"],[0.1111111111111111,\"#46039f\"],[0.2222222222222222,\"#7201a8\"],[0.3333333333333333,\"#9c179e\"],[0.4444444444444444,\"#bd3786\"],[0.5555555555555556,\"#d8576b\"],[0.6666666666666666,\"#ed7953\"],[0.7777777777777778,\"#fb9f3a\"],[0.8888888888888888,\"#fdca26\"],[1.0,\"#f0f921\"]],\"sequentialminus\":[[0.0,\"#0d0887\"],[0.1111111111111111,\"#46039f\"],[0.2222222222222222,\"#7201a8\"],[0.3333333333333333,\"#9c179e\"],[0.4444444444444444,\"#bd3786\"],[0.5555555555555556,\"#d8576b\"],[0.6666666666666666,\"#ed7953\"],[0.7777777777777778,\"#fb9f3a\"],[0.8888888888888888,\"#fdca26\"],[1.0,\"#f0f921\"]],\"diverging\":[[0,\"#8e0152\"],[0.1,\"#c51b7d\"],[0.2,\"#de77ae\"],[0.3,\"#f1b6da\"],[0.4,\"#fde0ef\"],[0.5,\"#f7f7f7\"],[0.6,\"#e6f5d0\"],[0.7,\"#b8e186\"],[0.8,\"#7fbc41\"],[0.9,\"#4d9221\"],[1,\"#276419\"]]},\"xaxis\":{\"gridcolor\":\"white\",\"linecolor\":\"white\",\"ticks\":\"\",\"title\":{\"standoff\":15},\"zerolinecolor\":\"white\",\"automargin\":true,\"zerolinewidth\":2},\"yaxis\":{\"gridcolor\":\"white\",\"linecolor\":\"white\",\"ticks\":\"\",\"title\":{\"standoff\":15},\"zerolinecolor\":\"white\",\"automargin\":true,\"zerolinewidth\":2},\"scene\":{\"xaxis\":{\"backgroundcolor\":\"#E5ECF6\",\"gridcolor\":\"white\",\"linecolor\":\"white\",\"showbackground\":true,\"ticks\":\"\",\"zerolinecolor\":\"white\",\"gridwidth\":2},\"yaxis\":{\"backgroundcolor\":\"#E5ECF6\",\"gridcolor\":\"white\",\"linecolor\":\"white\",\"showbackground\":true,\"ticks\":\"\",\"zerolinecolor\":\"white\",\"gridwidth\":2},\"zaxis\":{\"backgroundcolor\":\"#E5ECF6\",\"gridcolor\":\"white\",\"linecolor\":\"white\",\"showbackground\":true,\"ticks\":\"\",\"zerolinecolor\":\"white\",\"gridwidth\":2}},\"shapedefaults\":{\"line\":{\"color\":\"#2a3f5f\"}},\"annotationdefaults\":{\"arrowcolor\":\"#2a3f5f\",\"arrowhead\":0,\"arrowwidth\":1},\"geo\":{\"bgcolor\":\"white\",\"landcolor\":\"#E5ECF6\",\"subunitcolor\":\"white\",\"showland\":true,\"showlakes\":true,\"lakecolor\":\"white\"},\"title\":{\"x\":0.05},\"mapbox\":{\"style\":\"light\"}}},\"xaxis\":{\"anchor\":\"y\",\"domain\":[0.0,1.0],\"title\":{\"text\":\"stat.points\"}},\"yaxis\":{\"anchor\":\"x\",\"domain\":[0.0,1.0],\"title\":{\"text\":\"weight\"}},\"legend\":{\"tracegroupgap\":0},\"margin\":{\"t\":60}},                        {\"responsive\": true}                    ).then(function(){\n",
       "                            \n",
       "var gd = document.getElementById('55470f68-091d-43de-85ae-cdca41dc9fbe');\n",
       "var x = new MutationObserver(function (mutations, observer) {{\n",
       "        var display = window.getComputedStyle(gd).display;\n",
       "        if (!display || display === 'none') {{\n",
       "            console.log([gd, 'removed!']);\n",
       "            Plotly.purge(gd);\n",
       "            observer.disconnect();\n",
       "        }}\n",
       "}});\n",
       "\n",
       "// Listen for the removal of the full notebook cells\n",
       "var notebookContainer = gd.closest('#notebook-container');\n",
       "if (notebookContainer) {{\n",
       "    x.observe(notebookContainer, {childList: true});\n",
       "}}\n",
       "\n",
       "// Listen for the clearing of the current output cell\n",
       "var outputEl = gd.closest('.output');\n",
       "if (outputEl) {{\n",
       "    x.observe(outputEl, {childList: true});\n",
       "}}\n",
       "\n",
       "                        })                };                });            </script>        </div>"
      ]
     },
     "metadata": {},
     "output_type": "display_data"
    }
   ],
   "source": [
    "px.scatter(df_stats_attr, x='stat.points', y='weight')"
   ]
  },
  {
   "cell_type": "code",
   "execution_count": null,
   "id": "ddb17de9-b77e-4517-abe5-94ff2d9c6cfc",
   "metadata": {},
   "outputs": [],
   "source": []
  }
 ],
 "metadata": {
  "kernelspec": {
   "display_name": "Python (portfolio)",
   "language": "python",
   "name": "portfolio"
  },
  "language_info": {
   "codemirror_mode": {
    "name": "ipython",
    "version": 3
   },
   "file_extension": ".py",
   "mimetype": "text/x-python",
   "name": "python",
   "nbconvert_exporter": "python",
   "pygments_lexer": "ipython3",
   "version": "3.9.16"
  }
 },
 "nbformat": 4,
 "nbformat_minor": 5
}
